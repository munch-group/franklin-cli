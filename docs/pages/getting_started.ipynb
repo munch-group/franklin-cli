{
 "cells": [
  {
   "cell_type": "raw",
   "id": "13730ce1-d79a-4857-8368-9de669de1165",
   "metadata": {},
   "source": [
    "---\n",
    "title: Getting started\n",
    "aliases:\n",
    "  - ../index.html\n",
    "---"
   ]
  },
  {
   "cell_type": "markdown",
   "id": "efc5691e-4b1e-42c7-9349-ca78a254e041",
   "metadata": {},
   "source": [
    "The **franklin** tool ...\n",
    "\n",
    "## Installation\n",
    "\n",
    "```bash\n",
    "conda install -c munch-group -c conda-forge ptdalgorithms\n",
    "```\n",
    "\n",
    "## Quickstart\n",
    "\n"
   ]
  },
  {
   "cell_type": "markdown",
   "id": "1d53ecdf-fe97-403e-945a-8fc071925c87",
   "metadata": {},
   "source": []
  },
  {
   "cell_type": "markdown",
   "id": "4f7215e8-9a35-4330-954b-fc3f168e9203",
   "metadata": {},
   "source": [
    "::: {.callout-caution }\n",
    "## These pages are under construction\n",
    "\n",
    ":::"
   ]
  },
  {
   "cell_type": "markdown",
   "id": "68adc13a",
   "metadata": {},
   "source": []
  }
 ],
 "metadata": {
  "kernelspec": {
   "display_name": "ptd",
   "language": "python",
   "name": "python3"
  },
  "language_info": {
   "codemirror_mode": {
    "name": "ipython",
    "version": 3
   },
   "file_extension": ".py",
   "mimetype": "text/x-python",
   "name": "python",
   "nbconvert_exporter": "python",
   "pygments_lexer": "ipython3",
   "version": "3.11.9"
  }
 },
 "nbformat": 4,
 "nbformat_minor": 5
}
