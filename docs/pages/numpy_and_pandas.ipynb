{
 "cells": [
  {
   "cell_type": "markdown",
   "id": "df995e7a",
   "metadata": {},
   "source": [
    "---\n",
    "title: NumPy and Pandas\n",
    "---\n"
   ]
  },
  {
   "cell_type": "markdown",
   "id": "5cc3eb4c-8807-4081-91b5-df298109150a",
   "metadata": {},
   "source": [
    "## Numpy"
   ]
  },
  {
   "cell_type": "markdown",
   "id": "c94156b0-9b7d-4247-801a-69bb605ceead",
   "metadata": {},
   "source": [
    "Fast computation using vectors and matrices"
   ]
  },
  {
   "cell_type": "code",
   "execution_count": null,
   "id": "95f288a4-23a3-4ee1-a314-81308e747e08",
   "metadata": {},
   "outputs": [],
   "source": [
    "list1 = [0, 1, 2, 3, 4, 5, 6, 7, 8, 9]\n",
    "list2 = [9, 8, 7, 6, 5, 4, 3, 2, 1, 0]\n",
    "\n",
    "summed = []\n",
    "for i in range(len(list1)):\n",
    "    summed.append(list1[i] + list2[i])\n",
    "summed"
   ]
  },
  {
   "cell_type": "markdown",
   "id": "9d6697e8-61a2-4567-ac20-278a932a5be9",
   "metadata": {},
   "source": [
    "### Arrays"
   ]
  },
  {
   "cell_type": "code",
   "execution_count": null,
   "id": "edbe18e9-8a9b-442e-9334-9a0b11542e49",
   "metadata": {},
   "outputs": [],
   "source": [
    "import numpy as np"
   ]
  },
  {
   "cell_type": "code",
   "execution_count": null,
   "id": "d37c4503-1ed9-45bf-a97f-d8a17bbb02bf",
   "metadata": {},
   "outputs": [],
   "source": [
    "a = np.array(list1)\n",
    "b = np.array(list2)\n",
    "a, b"
   ]
  },
  {
   "cell_type": "markdown",
   "id": "9ff78403-f901-4166-b23e-cfbf2e482f87",
   "metadata": {},
   "source": [
    "### Broadcasting"
   ]
  },
  {
   "cell_type": "code",
   "execution_count": null,
   "id": "98afd0a6-cc0c-4541-bbe3-5f571f888284",
   "metadata": {},
   "outputs": [],
   "source": [
    "a + b"
   ]
  },
  {
   "cell_type": "code",
   "execution_count": null,
   "id": "3f659ec8-ae63-4494-b1dc-7ff56a6f2a55",
   "metadata": {},
   "outputs": [],
   "source": [
    "a * b"
   ]
  },
  {
   "cell_type": "code",
   "execution_count": null,
   "id": "1f3627f4-b67c-4420-83cb-304fdaa54eb5",
   "metadata": {},
   "outputs": [],
   "source": [
    "a - 10"
   ]
  },
  {
   "cell_type": "code",
   "execution_count": null,
   "id": "a9248da0-a0df-4794-aa6a-64941588b025",
   "metadata": {},
   "outputs": [],
   "source": [
    "a.sum()"
   ]
  },
  {
   "cell_type": "code",
   "execution_count": null,
   "id": "5afc4810-c741-4e7c-88c1-404765434d1c",
   "metadata": {},
   "outputs": [],
   "source": [
    "a.mean()"
   ]
  },
  {
   "cell_type": "markdown",
   "id": "b4c12b9d-82c2-42b1-8cec-d49746d14ac7",
   "metadata": {},
   "source": [
    "### Multidimentional arrays"
   ]
  },
  {
   "cell_type": "code",
   "execution_count": null,
   "id": "883919d3-8fca-4280-8c04-fb5ecc06b847",
   "metadata": {},
   "outputs": [],
   "source": [
    "list_of_lists = [[1, 2, 3], [4, 5, 6], [7, 8, 9]]\n",
    "list_of_lists"
   ]
  },
  {
   "cell_type": "code",
   "execution_count": null,
   "id": "03c384a9-80f5-4853-b5ee-bb38e736cd1a",
   "metadata": {},
   "outputs": [],
   "source": [
    "list_of_lists[1][1]"
   ]
  },
  {
   "cell_type": "code",
   "execution_count": null,
   "id": "712baf84-fbe6-48c7-92ce-05e7ccb8c694",
   "metadata": {},
   "outputs": [],
   "source": [
    "matrix = np.array(list_of_lists)\n",
    "matrix"
   ]
  },
  {
   "cell_type": "code",
   "execution_count": null,
   "id": "77565a64-b9c1-4615-a92c-d0f9fd8b856f",
   "metadata": {},
   "outputs": [],
   "source": [
    "matrix[1][1] # not efficient"
   ]
  },
  {
   "cell_type": "code",
   "execution_count": null,
   "id": "bec8bed3-a997-4748-8481-73e08617648c",
   "metadata": {},
   "outputs": [],
   "source": [
    "matrix[1, 1] # efficient"
   ]
  },
  {
   "cell_type": "code",
   "execution_count": null,
   "id": "3e7a6825-728f-4fd9-adb5-e25f18f0db3d",
   "metadata": {},
   "outputs": [],
   "source": [
    "matrix - 10"
   ]
  },
  {
   "cell_type": "code",
   "execution_count": null,
   "id": "1aa9afba-b3fa-4098-8624-0bbf9677b798",
   "metadata": {},
   "outputs": [],
   "source": [
    "matrix.sum()"
   ]
  },
  {
   "cell_type": "code",
   "execution_count": null,
   "id": "3db07a2d-c0ca-4652-8ab8-d3fa0c4e25d0",
   "metadata": {},
   "outputs": [],
   "source": [
    "list_of_lists_of_lists = [[[1, 2, 3], [4, 5, 6], [7, 8, 9]], [[1, 2, 3], [4, 5, 6], [7, 8, 9]]]\n",
    "list_of_lists_of_lists"
   ]
  },
  {
   "cell_type": "code",
   "execution_count": null,
   "id": "d0275556-7956-4042-a4ed-e18b9a6a5c8e",
   "metadata": {},
   "outputs": [],
   "source": [
    "tensor = np.array(list_of_lists_of_lists)\n",
    "tensor"
   ]
  },
  {
   "cell_type": "code",
   "execution_count": null,
   "id": "b6d709d5-4c3f-447d-b94b-0990d968a025",
   "metadata": {},
   "outputs": [],
   "source": [
    "tensor[1, 1, 1]"
   ]
  },
  {
   "cell_type": "markdown",
   "id": "6518dbb0-2afd-4f92-8f03-1d6eb2fb6e01",
   "metadata": {},
   "source": [
    "## Pandas"
   ]
  },
  {
   "cell_type": "markdown",
   "id": "79dd6c3c-ffaa-490c-98be-93d990c2b3b1",
   "metadata": {},
   "source": [
    "Fast computations on data tables (on top of Numpy)."
   ]
  },
  {
   "cell_type": "code",
   "execution_count": null,
   "id": "99e9ff6a-5ac8-44f3-a010-e435ada22006",
   "metadata": {},
   "outputs": [],
   "source": [
    "import pandas as pd"
   ]
  },
  {
   "cell_type": "markdown",
   "id": "2fa7860d-652b-4439-a29b-229a6c4ffd36",
   "metadata": {},
   "source": [
    "### DataFrame"
   ]
  },
  {
   "cell_type": "code",
   "execution_count": null,
   "id": "fbe09409-aaa7-4d13-8262-43084dace17a",
   "metadata": {},
   "outputs": [],
   "source": [
    "df = pd.DataFrame({'name': ['Mike', 'Mia', 'Jake'], 'weight': [82, 62, 75]})\n",
    "df"
   ]
  },
  {
   "cell_type": "code",
   "execution_count": null,
   "id": "cb816d9e-14eb-4703-809d-1a29630bae12",
   "metadata": {},
   "outputs": [],
   "source": [
    "type(df)"
   ]
  },
  {
   "cell_type": "code",
   "execution_count": null,
   "id": "1f0097ca-73cf-4ea5-ae24-33150f80ef07",
   "metadata": {},
   "outputs": [],
   "source": [
    "df = pd.DataFrame(dict(name=['Mike', 'Mia', 'Jake'], weight=[82, 62, 75]))\n",
    "df"
   ]
  },
  {
   "cell_type": "code",
   "execution_count": null,
   "id": "7dcfbf73-c66d-4c69-8c82-7b61f060847d",
   "metadata": {},
   "outputs": [],
   "source": [
    "records = [('Mike', 82), ('Mia', 62), ('Jake', 75)]\n",
    "\n",
    "df = pd.DataFrame().from_records(records, columns=['age', 'weight'])\n",
    "df"
   ]
  },
  {
   "cell_type": "code",
   "execution_count": null,
   "id": "60ca293c-69db-4c14-bec0-d44ccf6415a8",
   "metadata": {},
   "outputs": [],
   "source": [
    "df.index"
   ]
  },
  {
   "cell_type": "code",
   "execution_count": null,
   "id": "181b0419-8a6b-423a-9288-4ddb8437aee1",
   "metadata": {},
   "outputs": [],
   "source": [
    "df.index.values"
   ]
  },
  {
   "cell_type": "code",
   "execution_count": null,
   "id": "6af48126-0d5c-4f49-be4d-dc3f39c6083c",
   "metadata": {},
   "outputs": [],
   "source": [
    "df.columns"
   ]
  },
  {
   "cell_type": "code",
   "execution_count": null,
   "id": "5205f820-c5c4-46a7-a664-9a22eb39c30b",
   "metadata": {},
   "outputs": [],
   "source": [
    "df.dtypes"
   ]
  },
  {
   "cell_type": "markdown",
   "id": "43cfde6a-dbee-408a-943e-42ef26f4d6e9",
   "metadata": {},
   "source": [
    "Add a column to an existing dataframe:"
   ]
  },
  {
   "cell_type": "code",
   "execution_count": null,
   "id": "5c173b36-ff1d-42e8-82fe-d4990936fb44",
   "metadata": {},
   "outputs": [],
   "source": [
    "df['height'] = [182.5, 173.0, 192.5]\n",
    "df"
   ]
  },
  {
   "cell_type": "markdown",
   "id": "a37947c9-18c2-4abf-bcdb-0e152ec1ad09",
   "metadata": {},
   "source": [
    "Add another, categorical, column:"
   ]
  },
  {
   "cell_type": "code",
   "execution_count": null,
   "id": "d5a3eebb-cdbd-4e9d-b1a5-322644540792",
   "metadata": {},
   "outputs": [],
   "source": [
    "df['sex'] = pd.Categorical(['male', 'female', 'male'], categories=['female', 'male'], ordered=True)\n",
    "df"
   ]
  },
  {
   "cell_type": "code",
   "execution_count": null,
   "id": "1cc05dc0-b030-4f65-910e-3f2e038aed46",
   "metadata": {},
   "outputs": [],
   "source": [
    "df.dtypes"
   ]
  },
  {
   "cell_type": "markdown",
   "id": "e6063088-90a1-4e34-a98f-9ce12b61ed09",
   "metadata": {},
   "source": [
    "A Series just wraps an array:"
   ]
  },
  {
   "cell_type": "code",
   "execution_count": null,
   "id": "19f76418-735f-4d1b-ab0f-a277803840f0",
   "metadata": {},
   "outputs": [],
   "source": [
    "df.height.to_numpy()"
   ]
  },
  {
   "cell_type": "markdown",
   "id": "ec274aea-b1ad-4395-b1c3-33c6a684e4e1",
   "metadata": {},
   "source": [
    "### Example penguin data set"
   ]
  },
  {
   "cell_type": "code",
   "execution_count": null,
   "id": "c9a01946-295d-42c2-8f2b-5065fa92b271",
   "metadata": {},
   "outputs": [],
   "source": [
    "import seaborn as sns\n",
    "\n",
    "penguins = sns.load_dataset('penguins')"
   ]
  },
  {
   "cell_type": "code",
   "execution_count": null,
   "id": "00be65f1-55cc-4e95-8357-7edc765633aa",
   "metadata": {},
   "outputs": [],
   "source": [
    "penguins"
   ]
  },
  {
   "cell_type": "code",
   "execution_count": null,
   "id": "79a05ecd-8764-4dc3-a627-39bf1f7af72a",
   "metadata": {},
   "outputs": [],
   "source": [
    "penguins.dtypes"
   ]
  },
  {
   "cell_type": "code",
   "execution_count": null,
   "id": "22ed09ea-7028-426c-80e2-4b7da673613c",
   "metadata": {},
   "outputs": [],
   "source": [
    "penguins.head()"
   ]
  },
  {
   "cell_type": "code",
   "execution_count": null,
   "id": "8040e95c-1183-464a-988d-2c4bcbea83fb",
   "metadata": {},
   "outputs": [],
   "source": [
    "penguins.tail()"
   ]
  },
  {
   "cell_type": "markdown",
   "id": "24d03dcb-3dd9-4f29-b7ce-3d9d29d93606",
   "metadata": {},
   "source": [
    "### Series"
   ]
  },
  {
   "cell_type": "code",
   "execution_count": null,
   "id": "18f84333-f8dd-42bb-a203-d469f821f4aa",
   "metadata": {},
   "outputs": [],
   "source": [
    "penguins['flipper_length_mm']"
   ]
  },
  {
   "cell_type": "code",
   "execution_count": null,
   "id": "c4dbccbd-433e-4439-8301-0ee1113ef849",
   "metadata": {},
   "outputs": [],
   "source": [
    "penguins.flipper_length_mm"
   ]
  },
  {
   "cell_type": "code",
   "execution_count": null,
   "id": "b17b7b74-7d3c-4950-a392-26497afcf13f",
   "metadata": {},
   "outputs": [],
   "source": [
    "type(penguins.flipper_length_mm)"
   ]
  },
  {
   "cell_type": "markdown",
   "id": "5b260179-0f82-4d26-af1a-118d012e6918",
   "metadata": {},
   "source": [
    "### Broadcasting"
   ]
  },
  {
   "cell_type": "code",
   "execution_count": null,
   "id": "48d64d40-ac15-4c8d-bf63-c6cdde6695e4",
   "metadata": {},
   "outputs": [],
   "source": [
    "penguins.bill_depth_mm - 1000"
   ]
  },
  {
   "cell_type": "code",
   "execution_count": null,
   "id": "b99e0b20-b83c-481c-83c5-5ac3c5e282e9",
   "metadata": {},
   "outputs": [],
   "source": [
    "penguins.bill_depth_mm * penguins.flipper_length_mm"
   ]
  },
  {
   "cell_type": "markdown",
   "id": "21fa7346-4814-4bbf-b627-9098b78067b9",
   "metadata": {},
   "source": [
    "### Indexing"
   ]
  },
  {
   "cell_type": "markdown",
   "id": "94962216-fb65-4ffd-84d1-534ad9f4b723",
   "metadata": {},
   "source": [
    "#### Get a cell"
   ]
  },
  {
   "cell_type": "code",
   "execution_count": null,
   "id": "56b14efe-c870-4a05-9cab-49cce8147116",
   "metadata": {},
   "outputs": [],
   "source": [
    "penguins.loc[4, 'island']"
   ]
  },
  {
   "cell_type": "markdown",
   "id": "51ff1ed6-ec75-4627-a84f-d3450f24ec9f",
   "metadata": {},
   "source": [
    "#### Get a row"
   ]
  },
  {
   "cell_type": "code",
   "execution_count": null,
   "id": "d3baa615-5656-41cc-a15d-96fa1704a941",
   "metadata": {},
   "outputs": [],
   "source": [
    "penguins.loc[4]"
   ]
  },
  {
   "cell_type": "markdown",
   "id": "38678610-c4fe-41d6-99a8-a7582e1a371b",
   "metadata": {},
   "source": [
    "#### Get a column"
   ]
  },
  {
   "cell_type": "code",
   "execution_count": null,
   "id": "206ae196-a7a0-47e9-89ce-021d6a32297f",
   "metadata": {},
   "outputs": [],
   "source": [
    "penguins['bill_depth_mm']"
   ]
  },
  {
   "cell_type": "code",
   "execution_count": null,
   "id": "f0d58c4a-ef8c-4135-8a61-c8dc87efbbe1",
   "metadata": {},
   "outputs": [],
   "source": [
    "penguins.bill_depth_mm"
   ]
  },
  {
   "cell_type": "markdown",
   "id": "b4bbccbd-94f7-4b89-b76d-3653eb4e3700",
   "metadata": {},
   "source": [
    "#### Get a range of rows and multiple columns"
   ]
  },
  {
   "cell_type": "code",
   "execution_count": null,
   "id": "1ed85ded-63ea-4765-b184-c734d64b7498",
   "metadata": {},
   "outputs": [],
   "source": [
    "penguins.loc[40:45, ['island', 'body_mass_g']]"
   ]
  },
  {
   "cell_type": "markdown",
   "id": "6d83919e-09fd-43b8-92f6-0b930964750c",
   "metadata": {},
   "source": [
    "#### Use boolean series as index to subset data"
   ]
  },
  {
   "cell_type": "code",
   "execution_count": null,
   "id": "bfd22c42-d6c3-4b01-a7af-b9755a3c0d0d",
   "metadata": {},
   "outputs": [],
   "source": [
    "idx = penguins.bill_length_mm > 55\n",
    "idx"
   ]
  },
  {
   "cell_type": "code",
   "execution_count": null,
   "id": "af6bd6a5-2f1d-41c0-af76-c4793b0463c6",
   "metadata": {},
   "outputs": [],
   "source": [
    "penguins.loc[idx]"
   ]
  },
  {
   "cell_type": "code",
   "execution_count": null,
   "id": "e96244e9-b515-423f-a934-e44ef0645290",
   "metadata": {},
   "outputs": [],
   "source": [
    "penguins.loc[(penguins.bill_length_mm > 55) & (penguins.sex == 'Female')]"
   ]
  },
  {
   "cell_type": "markdown",
   "id": "766c2eaf-d677-49f3-8838-a4ee224ec158",
   "metadata": {},
   "source": [
    "#### Setting and resetting the index"
   ]
  },
  {
   "cell_type": "code",
   "execution_count": null,
   "id": "e84f33f6-4074-48da-ac26-66f9ea710399",
   "metadata": {},
   "outputs": [],
   "source": [
    "penguins"
   ]
  },
  {
   "cell_type": "code",
   "execution_count": null,
   "id": "b44ca274-4758-46ee-9c6f-55a7e0a5e3f5",
   "metadata": {},
   "outputs": [],
   "source": [
    "df = penguins.set_index(['species', 'sex', 'island'])\n",
    "df.head(10)"
   ]
  },
  {
   "cell_type": "code",
   "execution_count": null,
   "id": "cc9a0dfb-99f3-4c7f-8117-d3dc30a2498d",
   "metadata": {},
   "outputs": [],
   "source": [
    "df.reset_index()"
   ]
  },
  {
   "cell_type": "markdown",
   "id": "e02cb4d8-e8d6-433f-b2c8-8de9765797c4",
   "metadata": {},
   "source": [
    "### Sorting rows"
   ]
  },
  {
   "cell_type": "code",
   "execution_count": null,
   "id": "2188aad3-7493-4c2e-8498-62feb0483da2",
   "metadata": {},
   "outputs": [],
   "source": [
    "sorted_df = penguins.sort_values(by=\"bill_length_mm\")\n",
    "sorted_df.head()"
   ]
  },
  {
   "cell_type": "code",
   "execution_count": null,
   "id": "2f9af66d-b84a-4417-b21a-b9716f1c87a1",
   "metadata": {},
   "outputs": [],
   "source": [
    "sorted_df.index.values"
   ]
  },
  {
   "cell_type": "markdown",
   "id": "35f8a0f2-9615-45e9-a223-94a94acdc592",
   "metadata": {},
   "source": [
    "Click to the left of an output cell to enable/disable scrolling of the output (usefull for large amounts of output)."
   ]
  },
  {
   "cell_type": "code",
   "execution_count": null,
   "id": "4ac84605-623d-4f6a-b69a-36afac5d9605",
   "metadata": {},
   "outputs": [],
   "source": [
    "sorted_df.loc[0]"
   ]
  },
  {
   "cell_type": "code",
   "execution_count": null,
   "id": "3930da1e-b0f3-4f61-bc54-77bfc76f01c5",
   "metadata": {},
   "outputs": [],
   "source": [
    "sorted_df.flipper_length_mm[0]"
   ]
  },
  {
   "cell_type": "code",
   "execution_count": null,
   "id": "333312ca-7137-40ec-ad60-906c466fc8de",
   "metadata": {},
   "outputs": [],
   "source": [
    "sorted_df.iloc[0] # iloc !!!"
   ]
  },
  {
   "cell_type": "code",
   "execution_count": null,
   "id": "e1d3bbd5-84de-42eb-961a-6a7ac98d6262",
   "metadata": {},
   "outputs": [],
   "source": [
    "sorted_df.flipper_length_mm.iloc[0]"
   ]
  },
  {
   "cell_type": "markdown",
   "id": "04582970-0397-4a7f-bdf1-741cfe0ec67a",
   "metadata": {},
   "source": [
    "### Summary stats"
   ]
  },
  {
   "cell_type": "code",
   "execution_count": null,
   "id": "36a41d7e-11eb-4b42-9e9c-311113d48b0d",
   "metadata": {},
   "outputs": [],
   "source": [
    "penguins.describe()"
   ]
  },
  {
   "cell_type": "code",
   "execution_count": null,
   "id": "13a81c84-6203-4a9b-8489-92f36d4aae67",
   "metadata": {},
   "outputs": [],
   "source": [
    "penguins.bill_length_mm.mean()"
   ]
  },
  {
   "cell_type": "code",
   "execution_count": null,
   "id": "0e7fc7ce-a9af-4fd1-b4a8-90ad63fb39d1",
   "metadata": {},
   "outputs": [],
   "source": [
    "penguins.bill_length_mm.count()"
   ]
  },
  {
   "cell_type": "markdown",
   "id": "96040ee8-0d03-4f0e-afdc-618b9968a119",
   "metadata": {},
   "source": [
    "### Group"
   ]
  },
  {
   "cell_type": "code",
   "execution_count": null,
   "id": "b983e1fa-4720-4c57-9a59-0dc3b3a6febf",
   "metadata": {},
   "outputs": [],
   "source": [
    "penguins.groupby('island')"
   ]
  },
  {
   "cell_type": "markdown",
   "id": "c60e337e-b717-401f-b2cf-92eeacc55c37",
   "metadata": {},
   "source": [
    "### Aggregate"
   ]
  },
  {
   "cell_type": "markdown",
   "id": "85bfd723-b261-44bf-800e-cdbfd9b7d107",
   "metadata": {},
   "source": [
    "*Aggregating* produces a **single** value for each variable in each group:"
   ]
  },
  {
   "cell_type": "markdown",
   "id": "26386c7e-667f-494c-8f65-2cceffee5bc7",
   "metadata": {},
   "source": [
    "Means for all numeric variables for each island:"
   ]
  },
  {
   "cell_type": "code",
   "execution_count": null,
   "id": "347b6e3b-09d7-4410-94c3-cda827cf4081",
   "metadata": {},
   "outputs": [],
   "source": [
    "penguins.groupby('island').aggregate(\"mean\", numeric_only=True)"
   ]
  },
  {
   "cell_type": "code",
   "execution_count": null,
   "id": "d6440072-7c05-4dd8-92f0-a7a7fc9d4c98",
   "metadata": {},
   "outputs": [],
   "source": [
    "penguins.groupby('island').mean(numeric_only=True)"
   ]
  },
  {
   "cell_type": "markdown",
   "id": "7582e3b2-a22f-4bec-90c8-45578f717034",
   "metadata": {},
   "source": [
    "Means for `bill_length_mm` and `flipper_length_mm`:"
   ]
  },
  {
   "cell_type": "code",
   "execution_count": null,
   "id": "2ee01d15-8635-41a6-9b8a-ab0159f2f559",
   "metadata": {},
   "outputs": [],
   "source": [
    "penguins.groupby('island')[['bill_length_mm', 'flipper_length_mm']].mean()"
   ]
  },
  {
   "cell_type": "markdown",
   "id": "a16100bb-1100-4293-8997-d65d833e3feb",
   "metadata": {},
   "source": [
    "Just for `flipper_length_mm`:"
   ]
  },
  {
   "cell_type": "code",
   "execution_count": null,
   "id": "d3f145d7-5c8d-4d56-9f75-a4b107c65d80",
   "metadata": {},
   "outputs": [],
   "source": [
    "penguins.groupby('island').flipper_length_mm.mean()"
   ]
  },
  {
   "cell_type": "markdown",
   "id": "1f323dba-45d6-4d3a-9c5a-00195d4fde3d",
   "metadata": {},
   "source": [
    "### Transform\n",
    "\n",
    "*Transforming* produces new colums with the *same length* as the input:"
   ]
  },
  {
   "cell_type": "code",
   "execution_count": null,
   "id": "4a976efa-b445-4300-b56d-7fdbf28678f3",
   "metadata": {},
   "outputs": [],
   "source": [
    "penguins.groupby('island')[['bill_length_mm', 'flipper_length_mm']].transform(\"mean\")"
   ]
  },
  {
   "cell_type": "code",
   "execution_count": null,
   "id": "c2895a81-ff71-47a4-9c51-620c7efc3326",
   "metadata": {},
   "outputs": [],
   "source": [
    "def z_value(sr):\n",
    "    return (sr - sr.mean()) / sr.std()\n",
    "\n",
    "penguins.groupby('island')[['bill_length_mm', 'flipper_length_mm']].transform(z_value)"
   ]
  },
  {
   "cell_type": "markdown",
   "id": "a02a4deb-a778-424f-a2ff-39ac1d8136f9",
   "metadata": {},
   "source": [
    "### Apply\n",
    "\n",
    "Flexible method allowing any operation on grouped data."
   ]
  },
  {
   "cell_type": "markdown",
   "id": "df2ca06e-7977-4f69-8af6-833ce51c9e26",
   "metadata": {},
   "source": [
    "Return a single value:"
   ]
  },
  {
   "cell_type": "code",
   "execution_count": null,
   "id": "32b62c08-8382-4627-89c7-d80ece21d7ca",
   "metadata": {},
   "outputs": [],
   "source": [
    "def fun(df):\n",
    "    return df.bill_length_mm + df.flipper_length_mm.mean() / df.body_mass_g\n",
    "\n",
    "penguins.groupby('island').apply(fun)#.to_frame('my_stat')"
   ]
  },
  {
   "cell_type": "markdown",
   "id": "3d8fdfbb-1e54-49f2-a01c-c87e66b4b959",
   "metadata": {},
   "source": [
    "Return a dataframe:"
   ]
  },
  {
   "cell_type": "code",
   "execution_count": null,
   "id": "1513aabe-ebfd-43dd-aed9-6f62d8cd9925",
   "metadata": {},
   "outputs": [],
   "source": [
    "def fun(df):\n",
    "    return pd.DataFrame({'sqrt_bill': np.sqrt(df.bill_length_mm),\n",
    "                         'bill_squared': df.bill_length_mm**2})\n",
    "\n",
    "penguins.groupby('island').apply(fun)"
   ]
  }
 ],
 "metadata": {
  "kernelspec": {
   "display_name": "Python 3 (ipykernel)",
   "language": "python",
   "name": "python3"
  },
  "language_info": {
   "codemirror_mode": {
    "name": "ipython",
    "version": 3
   },
   "file_extension": ".py",
   "mimetype": "text/x-python",
   "name": "python",
   "nbconvert_exporter": "python",
   "pygments_lexer": "ipython3",
   "version": "3.10.12"
  }
 },
 "nbformat": 4,
 "nbformat_minor": 5
}