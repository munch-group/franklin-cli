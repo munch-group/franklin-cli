{
 "cells": [
  {
   "cell_type": "markdown",
   "metadata": {},
   "source": [
    "---\n",
    "title: \"JupyterLab Short Guide\"\n",
    "subtitle: \"Interactive Computing with Notebooks\"\n",
    "---"
   ]
  },
  {
   "cell_type": "markdown",
   "metadata": {},
   "source": [
    "## The JupyterLab Interface\n",
    "\n",
    "### Main Areas\n",
    "\n",
    "1. **Menu Bar**: File, Edit, View, Run, Kernel, Tabs, Settings, Help\n",
    "2. **Left Sidebar**: File browser, running terminals/kernels, command palette, notebook tools\n",
    "3. **Main Work Area**: Where notebooks, terminals, and other documents open\n",
    "4. **Status Bar**: Information about current activity and keyboard mode"
   ]
  },
  {
   "cell_type": "markdown",
   "metadata": {},
   "source": [
    "## Working with Notebooks\n",
    "\n",
    "### Creating a New Notebook\n",
    "\n",
    "1. Click the **+** button in the file browser\n",
    "2. Select **Python 3** (or another kernel)\n",
    "3. Or use `File → New → Notebook`"
   ]
  },
  {
   "cell_type": "markdown",
   "metadata": {},
   "source": [
    "## Cell Types\n",
    "\n",
    "Jupyter notebooks have three main cell types:"
   ]
  },
  {
   "cell_type": "markdown",
   "metadata": {},
   "source": [
    "### 1. Markdown Cells\n",
    "\n",
    "Markdown cells contain formatted text, like this one. They support:\n",
    "\n",
    "#### Headers at Different Levels\n",
    "\n",
    "**Bold** and *italic* text. Inline `code` and [links](https://quarto.org/docs/authoring/markdown-basics.html). \n",
    "\n",
    "- Lists\n",
    "- of\n",
    "- stuff\n",
    "\n",
    "1. Numbered\n",
    "2. ones\n",
    "3. too\n",
    "\n",
    "An empty line separates a one paragraph of text.\n",
    "\n",
    "From another paragraph of text. \n",
    "\n",
    "Two spaces at the end makes the line break:\n",
    "\n",
    "**Question 1**: some text  \n",
    "**Question 2**: some text  \n",
    "**Question 3**: some text  \n",
    "\n",
    "```python\n",
    "# Displayed code with syntax highlighting\n",
    "def hello():\n",
    "    return \"Hello, World!\"\n",
    "```\n",
    "\n",
    "| small       | table       |\n",
    "| :---------- | :---------- |\n",
    "| foo         | 2           |\n",
    "| bar         | 3           |\n",
    "\n",
    "\n",
    "HTML to include image with defined width or height:\n",
    "\n",
    "<img src=\"https://www.tng-project.org/static/data/lab_logo_tng.png\" alt=\"image\" height=\"100\"/>\n",
    "\n",
    "Formulas inline $E = mc^2$ or displayed:\n",
    "\n",
    "$$\\sum_{i=0}^n i$$\n",
    "\n"
   ]
  },
  {
   "cell_type": "raw",
   "metadata": {
    "vscode": {
     "languageId": "raw"
    }
   },
   "source": [
    "### 2. Raw Cells\n",
    "\n",
    "Raw cells contain unformatted text that won't be executed.\n",
    "Useful for including literal text or code that shouldn't run."
   ]
  },
  {
   "cell_type": "markdown",
   "metadata": {},
   "source": [
    "### 3. Code Cells\n",
    "\n",
    "Code cells contain executable code:"
   ]
  },
  {
   "cell_type": "code",
   "execution_count": 1,
   "metadata": {},
   "outputs": [
    {
     "name": "stdout",
     "output_type": "stream",
     "text": [
      "Hello, JupyterLab!\n",
      "Result: 42\n"
     ]
    }
   ],
   "source": [
    "# This is a code cell\n",
    "print(\"Hello, JupyterLab!\")\n",
    "\n",
    "# Variables are preserved between cells\n",
    "x = 42\n",
    "print(f\"Result: {x}\")"
   ]
  },
  {
   "cell_type": "markdown",
   "metadata": {},
   "source": [
    "Beginning a line with an exclamation mark (!) lets you to run shell commands directly from a code cell, displaying the output."
   ]
  },
  {
   "cell_type": "code",
   "execution_count": 2,
   "metadata": {},
   "outputs": [
    {
     "name": "stdout",
     "output_type": "stream",
     "text": [
      "/Users/kmt/franklin-ecosystem/franklin/docs/pages\n"
     ]
    }
   ],
   "source": [
    "! pwd"
   ]
  },
  {
   "cell_type": "markdown",
   "metadata": {},
   "source": [
    "## Best Practices\n",
    "\n",
    "### 1. Cell Organization\n",
    "\n",
    "- Keep cells focused on one concept\n",
    "- Use markdown cells for documentation\n",
    "- Group related code logically"
   ]
  },
  {
   "cell_type": "markdown",
   "metadata": {},
   "source": [
    "### 2. Reproducibility\n",
    "\n",
    "- Run cells in order\n",
    "- Don't rely on execution order\n",
    "- Use \"Restart & Run All\" to verify"
   ]
  },
  {
   "cell_type": "markdown",
   "metadata": {},
   "source": [
    "## Essential Keyboard Shortcuts\n",
    "\n",
    "JupyterLab has two modes:\n",
    "- **Command Mode** (blue cell border): Navigate and manipulate cells\n",
    "- **Edit Mode** (green cell border): Edit cell contents"
   ]
  },
  {
   "cell_type": "markdown",
   "metadata": {},
   "source": [
    "### Command Mode Shortcuts\n",
    "\n",
    "| Shortcut | Action |\n",
    "|----------|--------|\n",
    "| `Enter` | Enter edit mode |\n",
    "| `A` | Insert cell above |\n",
    "| `B` | Insert cell below |\n",
    "| `D, D` | Delete cell |\n",
    "| `Y` | Change to code cell |\n",
    "| `M` | Change to markdown cell |\n",
    "| `C` | Copy cell |\n",
    "| `V` | Paste cell below |\n",
    "| `Shift + V` | Paste cell above |\n",
    "| `Z` | Undo cell deletion |\n",
    "| `Shift + M` | Merge selected cells |"
   ]
  },
  {
   "cell_type": "markdown",
   "metadata": {},
   "source": [
    "### Edit Mode Shortcuts\n",
    "\n",
    "| Shortcut | Action |\n",
    "|----------|--------|\n",
    "| `Esc` | Enter command mode |\n",
    "| `Ctrl + Enter` | Run cell |\n",
    "| `Shift + Enter` | Run cell, select below |\n",
    "| `Alt + Enter` | Run cell, insert below |\n",
    "| `Tab` | Code completion/indent |\n",
    "| `Shift + Tab` | Tooltip/dedent |\n",
    "| `Ctrl + ]` | Indent |\n",
    "| `Ctrl + [` | Dedent |\n",
    "| `Ctrl + A` | Select all |\n",
    "| `Ctrl + Z` | Undo |"
   ]
  },
  {
   "cell_type": "markdown",
   "metadata": {},
   "source": [
    "## Two kinds of \"Undo\"\n",
    "\n",
    "- `Edit/Undo` to undo stuff in the current cell\n",
    "- `Edit/Undo Cell Operation` to undo deleting, moving, merging cells"
   ]
  },
  {
   "cell_type": "markdown",
   "metadata": {},
   "source": [
    "## Moving and copy/paste cells\n",
    "\n",
    "You can drag cells, or use `C` and `V` in command mode to copy and paste cells. You can also use the Edit menu if it feels safer."
   ]
  },
  {
   "cell_type": "code",
   "execution_count": 32,
   "metadata": {},
   "outputs": [
    {
     "name": "stdout",
     "output_type": "stream",
     "text": [
      "Move this cell somewhere\n"
     ]
    }
   ],
   "source": [
    "print(\"Move this cell somewhere\")"
   ]
  },
  {
   "cell_type": "markdown",
   "metadata": {},
   "source": [
    "## Spitting ane merging cells\n",
    "\n",
    "You do this using shortcuts or the menus. Try to split this cell into one containing only this.\n",
    "\n",
    "And one containing only this.  \n",
    "Then merge them back together."
   ]
  },
  {
   "cell_type": "markdown",
   "metadata": {},
   "source": [
    "## Working with Multiple Files\n",
    "\n",
    "### Split View\n",
    "\n",
    "1. Right-click on a notebook tab\n",
    "2. Select \"New View for Notebook\"\n",
    "3. Drag the new tab to create split view\n",
    "\n",
    "### Side-by-Side Editing\n",
    "\n",
    "- Drag tabs to arrange them horizontally or vertically\n",
    "- Useful for comparing code or referencing documentation"
   ]
  },
  {
   "cell_type": "markdown",
   "metadata": {},
   "source": [
    "## Managing Kernels\n",
    "\n",
    "### Kernel Operations\n",
    "\n",
    "- **Restart**: Clear all variables and start fresh\n",
    "- **Restart & Run All**: Restart and execute all cells\n",
    "- **Interrupt**: Stop currently executing code\n",
    "- **Shutdown**: Close the kernel completely\n",
    "\n",
    "Access via `Kernel` menu or keyboard shortcuts."
   ]
  },
  {
   "cell_type": "markdown",
   "metadata": {},
   "source": [
    "## Exporting Notebooks\n",
    "\n",
    "### Export Formats\n",
    "\n",
    "JupyterLab can export notebooks to:\n",
    "\n",
    "- **HTML**: Static web page\n",
    "- **PDF**: Via LaTeX (requires LaTeX installation)\n",
    "- **Markdown**: Text format\n",
    "- **Python**: Pure Python script\n",
    "- **LaTeX**: For academic papers\n",
    "\n",
    "Use `File → Export Notebook As...`"
   ]
  },
  {
   "cell_type": "markdown",
   "metadata": {},
   "source": [
    "## Running Code Cells\n",
    "\n",
    "### Basic Execution"
   ]
  },
  {
   "cell_type": "code",
   "execution_count": 4,
   "metadata": {},
   "outputs": [
    {
     "data": {
      "text/plain": [
       "25"
      ]
     },
     "execution_count": 4,
     "metadata": {},
     "output_type": "execute_result"
    }
   ],
   "source": [
    "# Run with Shift+Enter or Ctrl+Enter\n",
    "def square(x):\n",
    "    return x ** 2\n",
    "\n",
    "# Last expression is displayed\n",
    "square(5)"
   ]
  },
  {
   "cell_type": "markdown",
   "metadata": {},
   "source": [
    "### Variables Persist Between Cells"
   ]
  },
  {
   "cell_type": "code",
   "execution_count": 5,
   "metadata": {},
   "outputs": [],
   "source": [
    "# Define variable in one cell\n",
    "my_list = [1, 2, 3, 4, 5]"
   ]
  },
  {
   "cell_type": "code",
   "execution_count": 6,
   "metadata": {},
   "outputs": [
    {
     "name": "stdout",
     "output_type": "stream",
     "text": [
      "Sum: 15\n",
      "Squared: [1, 4, 9, 16, 25]\n"
     ]
    }
   ],
   "source": [
    "# Use in another cell\n",
    "print(f\"Sum: {sum(my_list)}\")\n",
    "print(f\"Squared: {[square(x) for x in my_list]}\")"
   ]
  },
  {
   "cell_type": "markdown",
   "metadata": {},
   "source": [
    "### Magic Commands\n",
    "\n",
    "JupyterLab supports [IPython magic commands](https://ipython.readthedocs.io/en/stable/interactive/magics.html) (with a % prefix) for enhanced functionality. E.g. list all variable names or a a table including types and values:"
   ]
  },
  {
   "cell_type": "code",
   "execution_count": 7,
   "metadata": {},
   "outputs": [
    {
     "name": "stdout",
     "output_type": "stream",
     "text": [
      "matplotlib\t my_list\t process_data\t square\t x\t \n"
     ]
    }
   ],
   "source": [
    "%who"
   ]
  },
  {
   "cell_type": "code",
   "execution_count": 8,
   "metadata": {},
   "outputs": [
    {
     "name": "stdout",
     "output_type": "stream",
     "text": [
      "Variable       Type        Data/Info\n",
      "------------------------------------\n",
      "matplotlib     module      <module 'matplotlib' from<...>/matplotlib/__init__.py'>\n",
      "my_list        list        n=5\n",
      "process_data   function    <function process_data at 0x12e8dfa60>\n",
      "square         function    <function square at 0x12e91e480>\n",
      "x              int         42\n"
     ]
    }
   ],
   "source": [
    "%whos"
   ]
  },
  {
   "cell_type": "markdown",
   "metadata": {},
   "source": [
    "## Rich Output Display\n",
    "\n",
    "### Displaying Data"
   ]
  },
  {
   "cell_type": "code",
   "execution_count": 9,
   "metadata": {},
   "outputs": [
    {
     "data": {
      "text/html": [
       "<div>\n",
       "<style scoped>\n",
       "    .dataframe tbody tr th:only-of-type {\n",
       "        vertical-align: middle;\n",
       "    }\n",
       "\n",
       "    .dataframe tbody tr th {\n",
       "        vertical-align: top;\n",
       "    }\n",
       "\n",
       "    .dataframe thead th {\n",
       "        text-align: right;\n",
       "    }\n",
       "</style>\n",
       "<table border=\"1\" class=\"dataframe\">\n",
       "  <thead>\n",
       "    <tr style=\"text-align: right;\">\n",
       "      <th></th>\n",
       "      <th>Name</th>\n",
       "      <th>Age</th>\n",
       "      <th>City</th>\n",
       "    </tr>\n",
       "  </thead>\n",
       "  <tbody>\n",
       "    <tr>\n",
       "      <th>0</th>\n",
       "      <td>Alice</td>\n",
       "      <td>25</td>\n",
       "      <td>New York</td>\n",
       "    </tr>\n",
       "    <tr>\n",
       "      <th>1</th>\n",
       "      <td>Bob</td>\n",
       "      <td>30</td>\n",
       "      <td>Paris</td>\n",
       "    </tr>\n",
       "    <tr>\n",
       "      <th>2</th>\n",
       "      <td>Charlie</td>\n",
       "      <td>35</td>\n",
       "      <td>London</td>\n",
       "    </tr>\n",
       "  </tbody>\n",
       "</table>\n",
       "</div>"
      ],
      "text/plain": [
       "      Name  Age      City\n",
       "0    Alice   25  New York\n",
       "1      Bob   30     Paris\n",
       "2  Charlie   35    London"
      ]
     },
     "execution_count": 9,
     "metadata": {},
     "output_type": "execute_result"
    }
   ],
   "source": [
    "import pandas as pd\n",
    "\n",
    "# DataFrames display as nice tables\n",
    "df = pd.DataFrame({\n",
    "    'Name': ['Alice', 'Bob', 'Charlie'],\n",
    "    'Age': [25, 30, 35],\n",
    "    'City': ['New York', 'Paris', 'London']\n",
    "})\n",
    "df"
   ]
  },
  {
   "cell_type": "markdown",
   "metadata": {},
   "source": [
    "### Inline Plots and Visualizations"
   ]
  },
  {
   "cell_type": "code",
   "execution_count": 10,
   "metadata": {},
   "outputs": [
    {
     "data": {
      "image/png": "[encoded data removed]",
      "text/plain": [
       "<Figure size 1000x400 with 2 Axes>"
      ]
     },
     "metadata": {},
     "output_type": "display_data"
    }
   ],
   "source": [
    "import matplotlib.pyplot as plt\n",
    "import numpy as np\n",
    "\n",
    "# Create sample data\n",
    "x = np.linspace(0, 2*np.pi, 100)\n",
    "y_sin = np.sin(x)\n",
    "y_cos = np.cos(x)\n",
    "\n",
    "# Create an axis for each subplot\n",
    "fig, (ax1, ax2) = plt.subplots(1, 2, figsize=(10, 4))\n",
    "\n",
    "# Plot sine wave\n",
    "ax1.plot(x, y_sin, 'b-', label='sin(x)')\n",
    "ax1.set_title('Sine Wave')\n",
    "ax1.set_xlabel('x')\n",
    "ax1.set_ylabel('y')\n",
    "ax1.legend()\n",
    "\n",
    "# Plot cosine wave\n",
    "ax2.plot(x, y_cos, 'r-', label='cos(x)')\n",
    "ax2.set_title('Cosine Wave')\n",
    "ax2.set_xlabel('x')\n",
    "ax2.set_ylabel('y')\n",
    "ax2.legend()\n",
    "\n",
    "plt.tight_layout()"
   ]
  },
  {
   "cell_type": "markdown",
   "metadata": {},
   "source": []
  }
 ],
 "metadata": {
  "kernelspec": {
   "display_name": "default",
   "language": "python",
   "name": "python3"
  },
  "language_info": {
   "codemirror_mode": {
    "name": "ipython",
    "version": 3
   },
   "file_extension": ".py",
   "mimetype": "text/x-python",
   "name": "python",
   "nbconvert_exporter": "python",
   "pygments_lexer": "ipython3",
   "version": "3.12.11"
  }
 },
 "nbformat": 4,
 "nbformat_minor": 4
}
