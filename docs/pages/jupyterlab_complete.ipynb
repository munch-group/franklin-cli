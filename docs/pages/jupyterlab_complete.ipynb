{
 "cells": [
  {
   "cell_type": "markdown",
   "metadata": {},
   "source": [
    "---\n",
    "title: \"JupyterLab Complete Guide\"\n",
    "subtitle: \"Interactive Computing with Notebooks\"\n",
    "---"
   ]
  },
  {
   "cell_type": "markdown",
   "metadata": {},
   "source": [
    "## What is JupyterLab?\n",
    "\n",
    "JupyterLab is a powerful web-based interactive development environment for working with notebooks, code, and data. It's the next-generation interface for Project Jupyter, offering a flexible and extensible environment for computational work.\n",
    "\n",
    "### Key Features\n",
    "\n",
    "- **Notebooks**: Interactive documents combining code, text, and outputs\n",
    "- **Multiple Languages**: Support for Python, R, Julia, and 100+ other languages\n",
    "- **Rich Outputs**: Display plots, tables, images, videos, and interactive widgets\n",
    "- **Flexible Interface**: Arrange multiple documents and activities side by side\n",
    "- **Extensions**: Customize with a growing ecosystem of extensions"
   ]
  },
  {
   "cell_type": "markdown",
   "metadata": {},
   "source": [
    "## Starting JupyterLab\n",
    "\n",
    "### With Franklin (Recommended)\n",
    "\n",
    "The easiest way for Franklin users:"
   ]
  },
  {
   "cell_type": "code",
   "execution_count": null,
   "metadata": {},
   "outputs": [],
   "source": [
    "# In your terminal\n",
    "# Navigate to exercise folder and start JupyterLab\n",
    "!echo \"cd 'My Exercise'\"\n",
    "!echo \"franklin jupyter\""
   ]
  },
  {
   "cell_type": "markdown",
   "metadata": {},
   "source": [
    "### Direct Launch\n",
    "\n",
    "If you have JupyterLab installed directly:"
   ]
  },
  {
   "cell_type": "code",
   "execution_count": null,
   "metadata": {},
   "outputs": [],
   "source": [
    "# Start JupyterLab\n",
    "!echo \"jupyter lab\"\n",
    "\n",
    "# Start in specific directory\n",
    "!echo \"jupyter lab --notebook-dir=/path/to/directory\"\n",
    "\n",
    "# Start on specific port\n",
    "!echo \"jupyter lab --port=8889\""
   ]
  },
  {
   "cell_type": "markdown",
   "metadata": {},
   "source": [
    "## The JupyterLab Interface\n",
    "\n",
    "### Main Areas\n",
    "\n",
    "1. **Menu Bar**: File, Edit, View, Run, Kernel, Tabs, Settings, Help\n",
    "2. **Left Sidebar**: File browser, running terminals/kernels, command palette, notebook tools\n",
    "3. **Main Work Area**: Where notebooks, terminals, and other documents open\n",
    "4. **Status Bar**: Information about current activity and keyboard mode"
   ]
  },
  {
   "cell_type": "markdown",
   "metadata": {},
   "source": [
    "## Working with Notebooks\n",
    "\n",
    "### Creating a New Notebook\n",
    "\n",
    "1. Click the **+** button in the file browser\n",
    "2. Select **Python 3** (or another kernel)\n",
    "3. Or use `File → New → Notebook`"
   ]
  },
  {
   "cell_type": "markdown",
   "metadata": {},
   "source": [
    "## Cell Types\n",
    "\n",
    "Jupyter notebooks have three main cell types:"
   ]
  },
  {
   "cell_type": "markdown",
   "metadata": {},
   "source": [
    "### 1. Code Cells\n",
    "\n",
    "Code cells contain executable code:"
   ]
  },
  {
   "cell_type": "code",
   "execution_count": null,
   "metadata": {},
   "outputs": [],
   "source": [
    "# This is a code cell\n",
    "print(\"Hello, JupyterLab!\")\n",
    "\n",
    "# Variables are preserved between cells\n",
    "x = 42\n",
    "print(f\"Result: {x}\")"
   ]
  },
  {
   "cell_type": "markdown",
   "metadata": {},
   "source": [
    "### 2. Markdown Cells\n",
    "\n",
    "Markdown cells contain formatted text, like this one. They support:\n",
    "\n",
    "- **Bold** and *italic* text\n",
    "- `Inline code`\n",
    "- [Links](https://jupyter.org)\n",
    "- Lists (like this one)\n",
    "- Mathematical formulas: $E = mc^2$\n",
    "\n",
    "#### Headers at Different Levels\n",
    "\n",
    "> Blockquotes for emphasis\n",
    "\n",
    "```python\n",
    "# Code blocks with syntax highlighting\n",
    "def hello():\n",
    "    return \"Hello, World!\"\n",
    "```"
   ]
  },
  {
   "cell_type": "raw",
   "metadata": {},
   "source": [
    "### 3. Raw Cells\n",
    "\n",
    "Raw cells contain unformatted text that won't be executed.\n",
    "Useful for including literal text or code that shouldn't run."
   ]
  },
  {
   "cell_type": "markdown",
   "metadata": {},
   "source": [
    "## Essential Keyboard Shortcuts\n",
    "\n",
    "JupyterLab has two modes:\n",
    "- **Command Mode** (blue cell border): Navigate and manipulate cells\n",
    "- **Edit Mode** (green cell border): Edit cell contents"
   ]
  },
  {
   "cell_type": "markdown",
   "metadata": {},
   "source": [
    "### Command Mode Shortcuts\n",
    "\n",
    "| Shortcut | Action |\n",
    "|----------|--------|\n",
    "| `Enter` | Enter edit mode |\n",
    "| `A` | Insert cell above |\n",
    "| `B` | Insert cell below |\n",
    "| `D, D` | Delete cell |\n",
    "| `Y` | Change to code cell |\n",
    "| `M` | Change to markdown cell |\n",
    "| `C` | Copy cell |\n",
    "| `V` | Paste cell below |\n",
    "| `Shift + V` | Paste cell above |\n",
    "| `Z` | Undo cell deletion |\n",
    "| `Shift + M` | Merge selected cells |"
   ]
  },
  {
   "cell_type": "markdown",
   "metadata": {},
   "source": [
    "### Edit Mode Shortcuts\n",
    "\n",
    "| Shortcut | Action |\n",
    "|----------|--------|\n",
    "| `Esc` | Enter command mode |\n",
    "| `Ctrl + Enter` | Run cell |\n",
    "| `Shift + Enter` | Run cell, select below |\n",
    "| `Alt + Enter` | Run cell, insert below |\n",
    "| `Tab` | Code completion/indent |\n",
    "| `Shift + Tab` | Tooltip/dedent |\n",
    "| `Ctrl + ]` | Indent |\n",
    "| `Ctrl + [` | Dedent |\n",
    "| `Ctrl + A` | Select all |\n",
    "| `Ctrl + Z` | Undo |"
   ]
  },
  {
   "cell_type": "markdown",
   "metadata": {},
   "source": [
    "## Running Code\n",
    "\n",
    "### Basic Execution"
   ]
  },
  {
   "cell_type": "code",
   "execution_count": null,
   "metadata": {},
   "outputs": [],
   "source": [
    "# Run with Shift+Enter or Ctrl+Enter\n",
    "def square(x):\n",
    "    return x ** 2\n",
    "\n",
    "# Last expression is displayed\n",
    "square(5)"
   ]
  },
  {
   "cell_type": "markdown",
   "metadata": {},
   "source": [
    "### Variables Persist Between Cells"
   ]
  },
  {
   "cell_type": "code",
   "execution_count": null,
   "metadata": {},
   "outputs": [],
   "source": [
    "# Define variable in one cell\n",
    "my_list = [1, 2, 3, 4, 5]"
   ]
  },
  {
   "cell_type": "code",
   "execution_count": null,
   "metadata": {},
   "outputs": [],
   "source": [
    "# Use in another cell\n",
    "print(f\"Sum: {sum(my_list)}\")\n",
    "print(f\"Squared: {[square(x) for x in my_list]}\")"
   ]
  },
  {
   "cell_type": "markdown",
   "metadata": {},
   "source": [
    "## Rich Output Display\n",
    "\n",
    "### Displaying Data"
   ]
  },
  {
   "cell_type": "code",
   "execution_count": null,
   "metadata": {},
   "outputs": [],
   "source": [
    "import pandas as pd\n",
    "\n",
    "# DataFrames display as nice tables\n",
    "df = pd.DataFrame({\n",
    "    'Name': ['Alice', 'Bob', 'Charlie'],\n",
    "    'Age': [25, 30, 35],\n",
    "    'City': ['New York', 'Paris', 'London']\n",
    "})\n",
    "df"
   ]
  },
  {
   "cell_type": "markdown",
   "metadata": {},
   "source": [
    "### Creating Visualizations"
   ]
  },
  {
   "cell_type": "code",
   "execution_count": null,
   "metadata": {},
   "outputs": [],
   "source": [
    "import matplotlib.pyplot as plt\n",
    "import numpy as np\n",
    "\n",
    "# Create sample data\n",
    "x = np.linspace(0, 2*np.pi, 100)\n",
    "y_sin = np.sin(x)\n",
    "y_cos = np.cos(x)\n",
    "\n",
    "# Create subplots\n",
    "fig, (ax1, ax2) = plt.subplots(1, 2, figsize=(10, 4))\n",
    "\n",
    "# Plot sine wave\n",
    "ax1.plot(x, y_sin, 'b-', label='sin(x)')\n",
    "ax1.set_title('Sine Wave')\n",
    "ax1.set_xlabel('x')\n",
    "ax1.set_ylabel('y')\n",
    "ax1.grid(True, alpha=0.3)\n",
    "ax1.legend()\n",
    "\n",
    "# Plot cosine wave\n",
    "ax2.plot(x, y_cos, 'r-', label='cos(x)')\n",
    "ax2.set_title('Cosine Wave')\n",
    "ax2.set_xlabel('x')\n",
    "ax2.set_ylabel('y')\n",
    "ax2.grid(True, alpha=0.3)\n",
    "ax2.legend()\n",
    "\n",
    "plt.tight_layout()\n",
    "plt.show()"
   ]
  },
  {
   "cell_type": "markdown",
   "metadata": {},
   "source": [
    "## Magic Commands\n",
    "\n",
    "JupyterLab supports IPython magic commands for enhanced functionality:"
   ]
  },
  {
   "cell_type": "code",
   "execution_count": null,
   "metadata": {},
   "outputs": [],
   "source": [
    "# Time execution\n",
    "%time sum([i**2 for i in range(1000)])"
   ]
  },
  {
   "cell_type": "code",
   "execution_count": null,
   "metadata": {},
   "outputs": [],
   "source": [
    "# Benchmark code\n",
    "%%timeit\n",
    "sum([i**2 for i in range(100)])"
   ]
  },
  {
   "cell_type": "code",
   "execution_count": null,
   "metadata": {},
   "outputs": [],
   "source": [
    "# List all variables\n",
    "%who"
   ]
  },
  {
   "cell_type": "code",
   "execution_count": null,
   "metadata": {},
   "outputs": [],
   "source": [
    "# Get detailed variable info\n",
    "%whos"
   ]
  },
  {
   "cell_type": "markdown",
   "metadata": {},
   "source": [
    "## Shell Commands\n",
    "\n",
    "Execute shell commands directly in notebooks:"
   ]
  },
  {
   "cell_type": "code",
   "execution_count": null,
   "metadata": {},
   "outputs": [],
   "source": [
    "# Use ! for shell commands\n",
    "!pwd"
   ]
  },
  {
   "cell_type": "code",
   "execution_count": null,
   "metadata": {},
   "outputs": [],
   "source": [
    "# Capture output\n",
    "files = !ls -la\n",
    "# Now 'files' contains the output as a list"
   ]
  },
  {
   "cell_type": "markdown",
   "metadata": {},
   "source": [
    "## Interactive Widgets\n",
    "\n",
    "Create interactive elements in your notebooks:"
   ]
  },
  {
   "cell_type": "code",
   "execution_count": null,
   "metadata": {},
   "outputs": [],
   "source": [
    "from ipywidgets import interact, interactive, fixed\n",
    "import ipywidgets as widgets\n",
    "\n",
    "def f(x):\n",
    "    return x ** 2\n",
    "\n",
    "interact(f, x=widgets.IntSlider(min=0, max=10, step=1, value=5));"
   ]
  },
  {
   "cell_type": "markdown",
   "metadata": {},
   "source": [
    "## Working with Multiple Files\n",
    "\n",
    "### Split View\n",
    "\n",
    "1. Right-click on a notebook tab\n",
    "2. Select \"New View for Notebook\"\n",
    "3. Drag the new tab to create split view\n",
    "\n",
    "### Side-by-Side Editing\n",
    "\n",
    "- Drag tabs to arrange them horizontally or vertically\n",
    "- Useful for comparing code or referencing documentation"
   ]
  },
  {
   "cell_type": "markdown",
   "metadata": {},
   "source": [
    "## Managing Kernels\n",
    "\n",
    "### Kernel Operations\n",
    "\n",
    "- **Restart**: Clear all variables and start fresh\n",
    "- **Restart & Run All**: Restart and execute all cells\n",
    "- **Interrupt**: Stop currently executing code\n",
    "- **Shutdown**: Close the kernel completely\n",
    "\n",
    "Access via `Kernel` menu or keyboard shortcuts."
   ]
  },
  {
   "cell_type": "markdown",
   "metadata": {},
   "source": [
    "## Best Practices\n",
    "\n",
    "### 1. Cell Organization\n",
    "\n",
    "- Keep cells focused on one concept\n",
    "- Use markdown cells for documentation\n",
    "- Group related code logically"
   ]
  },
  {
   "cell_type": "code",
   "execution_count": null,
   "metadata": {},
   "outputs": [],
   "source": [
    "# Good: Clear, focused cell\n",
    "def process_data(data):\n",
    "    \"\"\"Clean and prepare data for analysis.\"\"\"\n",
    "    cleaned = data.dropna()\n",
    "    normalized = (cleaned - cleaned.mean()) / cleaned.std()\n",
    "    return normalized"
   ]
  },
  {
   "cell_type": "markdown",
   "metadata": {},
   "source": [
    "### 2. Reproducibility\n",
    "\n",
    "- Run cells in order\n",
    "- Don't rely on execution order\n",
    "- Use \"Restart & Run All\" to verify"
   ]
  },
  {
   "cell_type": "markdown",
   "metadata": {},
   "source": [
    "### 3. Documentation\n",
    "\n",
    "- Document your thought process\n",
    "- Explain complex code\n",
    "- Include references and sources"
   ]
  },
  {
   "cell_type": "markdown",
   "metadata": {},
   "source": [
    "## Exporting Notebooks\n",
    "\n",
    "### Export Formats\n",
    "\n",
    "JupyterLab can export notebooks to:\n",
    "\n",
    "- **HTML**: Static web page\n",
    "- **PDF**: Via LaTeX (requires LaTeX installation)\n",
    "- **Markdown**: Text format\n",
    "- **Python**: Pure Python script\n",
    "- **LaTeX**: For academic papers\n",
    "\n",
    "Use `File → Export Notebook As...`"
   ]
  },
  {
   "cell_type": "markdown",
   "metadata": {},
   "source": [
    "## Useful Extensions\n",
    "\n",
    "### Installing Extensions\n",
    "\n",
    "JupyterLab extensions enhance functionality:"
   ]
  },
  {
   "cell_type": "code",
   "execution_count": null,
   "metadata": {},
   "outputs": [],
   "source": [
    "# Install from terminal\n",
    "!pip install jupyterlab-git\n",
    "!pip install jupyterlab-lsp\n",
    "!pip install jupyterlab-variableInspector"
   ]
  },
  {
   "cell_type": "markdown",
   "metadata": {},
   "source": [
    "### Recommended Extensions\n",
    "\n",
    "1. **Git**: Version control integration\n",
    "2. **Variable Inspector**: View all variables\n",
    "3. **Table of Contents**: Navigate large notebooks\n",
    "4. **LSP**: Code intelligence and completion\n",
    "5. **DrawIO**: Create diagrams"
   ]
  },
  {
   "cell_type": "markdown",
   "metadata": {},
   "source": [
    "## Troubleshooting\n",
    "\n",
    "### Common Issues\n",
    "\n",
    "#### Kernel Won't Start\n",
    "- Check Python installation\n",
    "- Verify virtual environment\n",
    "- Restart JupyterLab\n",
    "\n",
    "#### Code Not Running\n",
    "- Check for infinite loops\n",
    "- Interrupt kernel (`Kernel → Interrupt`)\n",
    "- Restart kernel if needed\n",
    "\n",
    "#### Missing Packages"
   ]
  },
  {
   "cell_type": "code",
   "execution_count": null,
   "metadata": {},
   "outputs": [],
   "source": [
    "# Install missing packages directly\n",
    "import sys\n",
    "!{sys.executable} -m pip install package_name"
   ]
  },
  {
   "cell_type": "markdown",
   "metadata": {},
   "source": [
    "## Advanced Tips\n",
    "\n",
    "### 1. Custom Keyboard Shortcuts\n",
    "\n",
    "Settings → Advanced Settings Editor → Keyboard Shortcuts\n",
    "\n",
    "### 2. Notebook Templates\n",
    "\n",
    "Create template notebooks for common tasks:\n",
    "- Data analysis template\n",
    "- Machine learning template\n",
    "- Report template\n",
    "\n",
    "### 3. Collaborative Editing\n",
    "\n",
    "- Use JupyterHub for multi-user environments\n",
    "- Share via GitHub/GitLab\n",
    "- Export to Google Colab"
   ]
  },
  {
   "cell_type": "markdown",
   "metadata": {},
   "source": [
    "## Integration with Franklin\n",
    "\n",
    "Franklin provides seamless JupyterLab integration:"
   ]
  },
  {
   "cell_type": "code",
   "execution_count": null,
   "metadata": {},
   "outputs": [],
   "source": [
    "# Franklin automatically:\n",
    "# 1. Sets up the environment\n",
    "# 2. Installs dependencies\n",
    "# 3. Configures JupyterLab\n",
    "# 4. Manages Docker containers\n",
    "\n",
    "# Just run:\n",
    "!franklin jupyter"
   ]
  },
  {
   "cell_type": "markdown",
   "metadata": {},
   "source": [
    "## Summary\n",
    "\n",
    "JupyterLab is a powerful environment for:\n",
    "- **Interactive Computing**: Explore data and ideas iteratively\n",
    "- **Documentation**: Combine code with rich text and visualizations\n",
    "- **Collaboration**: Share reproducible research\n",
    "- **Education**: Learn and teach programming concepts\n",
    "\n",
    "### Next Steps\n",
    "\n",
    "1. Practice keyboard shortcuts\n",
    "2. Explore magic commands\n",
    "3. Try interactive widgets\n",
    "4. Install useful extensions\n",
    "5. Create your first project notebook\n",
    "\n",
    "Happy computing! 🚀"
   ]
  }
 ],
 "metadata": {
  "kernelspec": {
   "display_name": "Python 3",
   "language": "python",
   "name": "python3"
  },
  "language_info": {
   "codemirror_mode": {
    "name": "ipython",
    "version": 3
   },
   "file_extension": ".py",
   "mimetype": "text/x-python",
   "name": "python",
   "nbconvert_exporter": "python",
   "pygments_lexer": "ipython3",
   "version": "3.10.0"
  }
 },
 "nbformat": 4,
 "nbformat_minor": 4
}
