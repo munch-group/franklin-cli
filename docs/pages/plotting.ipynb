{
 "cells": [
  {
   "cell_type": "markdown",
   "id": "78f19e54-93ff-48c7-80cd-2b181e06fa3f",
   "metadata": {},
   "source": [
    "---\n",
    "title: Plotting with Python\n",
    "---"
   ]
  },
  {
   "cell_type": "code",
   "execution_count": null,
   "id": "8c1f12d7-8f6a-4682-9bd4-e4a581d4c16a",
   "metadata": {},
   "outputs": [],
   "source": [
    "import matplotlib.pyplot as plt\n",
    "import seaborn as sns\n",
    "import pandas as pd\n",
    "sns.set_style(\"darkgrid\")\n",
    "\n",
    "# make graphics sharper on a good screen\n",
    "from matplotlib_inline.backend_inline import set_matplotlib_formats\n",
    "set_matplotlib_formats('retina', 'png')"
   ]
  },
  {
   "cell_type": "code",
   "execution_count": null,
   "id": "c77ee244",
   "metadata": {},
   "outputs": [],
   "source": [
    "penguins = sns.load_dataset(\"penguins\")\n",
    "penguins.head()"
   ]
  },
  {
   "cell_type": "code",
   "execution_count": null,
   "id": "a3ee75fa-dc1f-4911-aee3-ace4776ed6d3",
   "metadata": {},
   "outputs": [],
   "source": [
    "plt.scatter(penguins.bill_length_mm, penguins.flipper_length_mm) ;  # semi colon makes last value None"
   ]
  },
  {
   "cell_type": "code",
   "execution_count": null,
   "id": "9d53fb5d-c3c7-47ef-93c8-56b519500e7d",
   "metadata": {},
   "outputs": [],
   "source": [
    "sns.set_style(\"ticks\")\n",
    "# sns.set_style(\"darkgrid\")\n",
    "# sns.set_style(\"whitegrid\")\n",
    "# sns.set_style(\"white\")\n",
    "# sns.set_style(\"dark\")\n",
    "\n",
    "plt.scatter(penguins.bill_length_mm, penguins.flipper_length_mm)\n",
    "sns.despine()"
   ]
  },
  {
   "cell_type": "code",
   "execution_count": null,
   "id": "c4a00d2d-19a7-49c7-af2a-fae5e6112f1c",
   "metadata": {},
   "outputs": [],
   "source": [
    "plt.hist(penguins.bill_length_mm) ;"
   ]
  },
  {
   "cell_type": "markdown",
   "id": "f4dfd43d-8281-49a7-9c26-018418ca70dd",
   "metadata": {},
   "source": [
    "# Better plotting with seaborn (on top of matplotlib)"
   ]
  },
  {
   "cell_type": "code",
   "execution_count": null,
   "id": "5fb7e14f-d834-4a9e-88b3-6636e5effd09",
   "metadata": {},
   "outputs": [],
   "source": [
    "sns.scatterplot(data=penguins, x=\"bill_length_mm\", y=\"flipper_length_mm\") ;"
   ]
  },
  {
   "cell_type": "code",
   "execution_count": null,
   "id": "5ca385e3-c6f4-45c2-9a46-6005e71a31ab",
   "metadata": {},
   "outputs": [],
   "source": [
    "sns.scatterplot(data=penguins, x=\"bill_length_mm\", y=\"flipper_length_mm\", hue=\"species\") ;"
   ]
  },
  {
   "cell_type": "code",
   "execution_count": null,
   "id": "9fa2e399-d365-49b9-820a-76675c6edf70",
   "metadata": {},
   "outputs": [],
   "source": [
    "sns.scatterplot(data=penguins, x=\"bill_length_mm\", y=\"flipper_length_mm\", hue=\"species\", style=\"sex\") ;"
   ]
  },
  {
   "cell_type": "code",
   "execution_count": null,
   "id": "4014c35b-272a-4404-a224-17131c4867e2",
   "metadata": {},
   "outputs": [],
   "source": [
    "sns.scatterplot(data=penguins, x=\"bill_length_mm\", y=\"flipper_length_mm\", hue=\"species\", \n",
    "                style=\"sex\", size=\"body_mass_g\") ;"
   ]
  },
  {
   "cell_type": "code",
   "execution_count": null,
   "id": "f153abbc-1370-4d32-8c30-0c8447a902ea",
   "metadata": {},
   "outputs": [],
   "source": [
    "def legend_outside():\n",
    "    plt.legend(bbox_to_anchor=(1.05, 1), loc='upper left', borderaxespad=0)"
   ]
  },
  {
   "cell_type": "code",
   "execution_count": null,
   "id": "4feda331-ec77-4e1b-b487-007932a25c44",
   "metadata": {},
   "outputs": [],
   "source": [
    "sns.scatterplot(data=penguins, x=\"bill_length_mm\", y=\"flipper_length_mm\", hue=\"species\", style=\"sex\", size=\"body_mass_g\") ;\n",
    "\n",
    "legend_outside()\n",
    "\n",
    "plt.title(\"Penguin measurements\")\n",
    "plt.ylabel(\"flipper length (mm)\")\n",
    "plt.xlabel(\"bill length in (mm)\") ;"
   ]
  },
  {
   "cell_type": "markdown",
   "id": "f59e12e8-2c55-45d2-add2-c1691db7b329",
   "metadata": {},
   "source": [
    "# Wide or long data"
   ]
  },
  {
   "cell_type": "markdown",
   "id": "a51010d0-529b-48f3-9b47-596148d2976e",
   "metadata": {},
   "source": [
    "Wide format data:"
   ]
  },
  {
   "cell_type": "code",
   "execution_count": null,
   "id": "8d4c60cb-5ef7-4e31-8ce5-8bc05e029ecb",
   "metadata": {},
   "outputs": [],
   "source": [
    "penguins[['bill_length_mm', 'bill_depth_mm']]"
   ]
  },
  {
   "cell_type": "markdown",
   "id": "46f8f6b6-fe5b-466f-86aa-6b0364b0e4d1",
   "metadata": {},
   "source": [
    "Long format data:"
   ]
  },
  {
   "cell_type": "code",
   "execution_count": null,
   "id": "e96d69d6-7bd0-4f0b-9629-ff2658dfbce1",
   "metadata": {},
   "outputs": [],
   "source": [
    "long_df = penguins.melt(value_vars=['bill_length_mm', 'bill_depth_mm'])\n",
    "long_df"
   ]
  },
  {
   "cell_type": "markdown",
   "id": "ad275aa8-b7df-4b31-a839-972f66cd4f02",
   "metadata": {},
   "source": [
    "long format is required when you want a number of columns to appear as a \"variable\" in the plot. As in the example below where the color \"variable\" reflects whether the point is `bill_depth_mm` or `bill_length_mm`."
   ]
  },
  {
   "cell_type": "markdown",
   "id": "c7b52f0d-b8aa-4657-a899-ca669e41afb8",
   "metadata": {},
   "source": [
    "Retain other information for each observation:"
   ]
  },
  {
   "cell_type": "code",
   "execution_count": null,
   "id": "f854be4c-84a6-4b60-945b-cbc5c427b064",
   "metadata": {},
   "outputs": [],
   "source": [
    "long_df = penguins.melt(id_vars=['species', 'body_mass_g', 'island'], value_vars=['bill_length_mm', 'bill_depth_mm'])\n",
    "long_df"
   ]
  },
  {
   "cell_type": "code",
   "execution_count": null,
   "id": "1f4fba3b-97af-4b43-9288-64deb2e8ea21",
   "metadata": {},
   "outputs": [],
   "source": [
    "sns.scatterplot(data=long_df, x='body_mass_g', y='value', hue='variable', style='species')\n",
    "legend_outside()"
   ]
  },
  {
   "cell_type": "code",
   "execution_count": null,
   "id": "dee451dc-edec-40d6-a8dd-5940d9e3f658",
   "metadata": {},
   "outputs": [],
   "source": [
    "sns.boxplot(data=long_df, x='species', y='value', hue='variable') ;"
   ]
  },
  {
   "cell_type": "code",
   "execution_count": null,
   "id": "717f84ad-e3c3-4d92-a577-cd3371661419",
   "metadata": {},
   "outputs": [],
   "source": [
    "sns.boxplot(data=long_df, x='variable', y='value', hue='species') ;"
   ]
  },
  {
   "cell_type": "code",
   "execution_count": null,
   "id": "99ec11e0-5d90-49bf-836b-cb696b7e7bed",
   "metadata": {},
   "outputs": [],
   "source": [
    "sns.boxplot(data=long_df, x='species', y='value', hue='variable') ;"
   ]
  },
  {
   "cell_type": "markdown",
   "id": "f68503b2-69c1-42a7-b585-0701d226f6df",
   "metadata": {},
   "source": [
    "# Plots with multiple facets"
   ]
  },
  {
   "cell_type": "code",
   "execution_count": null,
   "id": "9fa37dbe-a528-4719-a9eb-a6a11d14d44c",
   "metadata": {},
   "outputs": [],
   "source": [
    "g = sns.FacetGrid(penguins, col=\"island\")\n",
    "g ;"
   ]
  },
  {
   "cell_type": "markdown",
   "id": "94c3a818-8706-45b0-92ba-a8ca068d9439",
   "metadata": {},
   "source": [
    "Map plotting to each facet:"
   ]
  },
  {
   "cell_type": "code",
   "execution_count": null,
   "id": "fdd2ae56-b970-4444-b2ff-1f3af3ce39b5",
   "metadata": {},
   "outputs": [],
   "source": [
    "g = sns.FacetGrid(penguins, col=\"island\", hue=\"species\", height=3)\n",
    "g.map(sns.scatterplot, \"bill_length_mm\", \"flipper_length_mm\") ;"
   ]
  },
  {
   "cell_type": "markdown",
   "id": "e691225b-0ec3-4883-89a6-e0956d78ed91",
   "metadata": {},
   "source": [
    "Grid of facets representing combinations of two variables:"
   ]
  },
  {
   "cell_type": "code",
   "execution_count": null,
   "id": "af680761-e0b7-46ae-8a2b-287b0f034b06",
   "metadata": {},
   "outputs": [],
   "source": [
    "g = sns.FacetGrid(penguins, row=\"sex\", col=\"island\", hue=\"species\", height=3) ;\n",
    "g.map(sns.scatterplot, \"bill_length_mm\", \"flipper_length_mm\") ;"
   ]
  },
  {
   "cell_type": "code",
   "execution_count": null,
   "id": "19ecc2a2-4ef9-4c16-8a12-223dbc8f141c",
   "metadata": {},
   "outputs": [],
   "source": [
    "g = sns.FacetGrid(penguins, row=\"sex\", col=\"island\", hue=\"species\", height=3) ;\n",
    "g.map(sns.regplot, \"bill_length_mm\", \"flipper_length_mm\") ;"
   ]
  },
  {
   "cell_type": "code",
   "execution_count": null,
   "id": "7eb2b9cc-c374-469a-bc4f-8da06940682c",
   "metadata": {},
   "outputs": [],
   "source": [
    "sns.lmplot(data=penguins, x=\"bill_length_mm\", y=\"flipper_length_mm\", row=\"sex\", col=\"island\", hue=\"species\", height=2) ;"
   ]
  },
  {
   "cell_type": "markdown",
   "id": "5c489ad6-244b-4877-a17b-941d62e3aca6",
   "metadata": {},
   "source": [
    "## FacetGrid.map vs. FacetGrid.map_dataframe"
   ]
  },
  {
   "cell_type": "markdown",
   "id": "1b8da027-928b-48d4-9b80-e238498a3b97",
   "metadata": {},
   "source": [
    "When you use `FacetGrid.map(func, \"col1\", \"col2\", ...)`, the function `func` is passed the values of the columns `\"col1\"` and `\"col2\"` (and more if needed) as parameters 1 and 2 (`args[0]`, `args[1]`, ...). In addition, the function always receives a keyword argument named `color=`."
   ]
  },
  {
   "cell_type": "code",
   "execution_count": null,
   "id": "b0fcc636-2495-48d2-8133-baf140dbdcc3",
   "metadata": {},
   "outputs": [],
   "source": [
    "def scatter(*args, **kwargs):\n",
    "    return plt.scatter(args[0], args[1], **kwargs)\n",
    "    \n",
    "g = sns.FacetGrid(penguins, row=\"sex\", col=\"island\", hue=\"species\") ;\n",
    "g.map(scatter, \"bill_length_mm\", \"flipper_length_mm\") ;"
   ]
  },
  {
   "cell_type": "markdown",
   "id": "26837c1f-225c-4dec-b748-c8e3d0bc5a87",
   "metadata": {},
   "source": [
    "When you use `FacetGrid.map_dataframe(func, \"col1\", \"col2\", ...)`, the function `func` is passed the names `\"col1\"` and `\"col2\"` (and more if needed) as parameters 1 and 2 (`args[0]`, `args[1]`, ...), and the filtered dataframe as keyword argument `data=`. In addition, the function always receives a keyword argument named `color=`."
   ]
  },
  {
   "cell_type": "code",
   "execution_count": null,
   "id": "64bb32c4-3c8a-40e6-bc3e-40b3d7f414e9",
   "metadata": {},
   "outputs": [],
   "source": [
    "def scatterplot(*args, **kwargs):\n",
    "    return sns.scatterplot(x=args[0], y=args[1], **kwargs)\n",
    "\n",
    "g = sns.FacetGrid(penguins, row=\"sex\", col=\"island\", hue=\"species\") ;\n",
    "g.map_dataframe(scatterplot, \"bill_length_mm\", \"flipper_length_mm\") ;"
   ]
  },
  {
   "cell_type": "code",
   "execution_count": null,
   "id": "e967fced-387a-4725-b6fc-59d3851e4e10",
   "metadata": {},
   "outputs": [],
   "source": [
    "g = sns.FacetGrid(penguins, row=\"sex\", col=\"island\", hue=\"species\") ;\n",
    "g.map(sns.histplot, \"bill_length_mm\") ;"
   ]
  },
  {
   "cell_type": "code",
   "execution_count": null,
   "id": "05948b27-5dbf-46f4-8973-acfc3079579b",
   "metadata": {},
   "outputs": [],
   "source": [
    "g = sns.FacetGrid(penguins, row=\"sex\", col=\"island\", hue=\"species\") ;\n",
    "g.map(sns.kdeplot, \"bill_length_mm\") ;"
   ]
  },
  {
   "cell_type": "code",
   "execution_count": null,
   "id": "8b65edb6-c25a-40dd-be64-73a2ab407528",
   "metadata": {},
   "outputs": [],
   "source": [
    "sns.pairplot(penguins, hue=\"species\") ;"
   ]
  },
  {
   "cell_type": "code",
   "execution_count": null,
   "id": "f6359477-0261-4c71-a0c0-fd0af0b69ec0",
   "metadata": {},
   "outputs": [],
   "source": [
    "sns.pairplot(penguins, hue=\"sex\") ;"
   ]
  },
  {
   "cell_type": "code",
   "execution_count": null,
   "id": "477f6dd9-87fd-4e6b-83dd-7fb9cc541cda",
   "metadata": {},
   "outputs": [],
   "source": []
  }
 ],
 "metadata": {
  "kernelspec": {
   "display_name": "Python 3",
   "language": "python",
   "name": "python3"
  },
  "language_info": {
   "codemirror_mode": {
    "name": "ipython",
    "version": 3
   },
   "file_extension": ".py",
   "mimetype": "text/x-python",
   "name": "python",
   "nbconvert_exporter": "python",
   "pygments_lexer": "ipython3",
   "version": "3.12.0"
  }
 },
 "nbformat": 4,
 "nbformat_minor": 5
}