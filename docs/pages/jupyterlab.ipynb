{
 "cells": [
  {
   "cell_type": "markdown",
   "id": "6aac4bac-913e-4a55-8a3c-8b9ceac8aa35",
   "metadata": {},
   "source": "---\ntitle: \"JupyterLab Tutorial\"\nsubtitle: \"Interactive Computing with Notebooks\"\n---"
  },
  {
   "cell_type": "markdown",
   "id": "ceac292a-9c71-43df-b8d3-aa7b8c7c9f99",
   "metadata": {},
   "source": "## What is JupyterLab?\n\nJupyterLab is a powerful web-based interactive development environment for working with notebooks, code, and data. It's the next-generation interface for Project Jupyter, offering a flexible and extensible environment for computational work.\n\n### Key Features\n\n- **Notebooks**: Interactive documents combining code, text, and outputs\n- **Multiple Languages**: Support for Python, R, Julia, and 100+ other languages\n- **Rich Outputs**: Display plots, tables, images, videos, and interactive widgets\n- **Flexible Interface**: Arrange multiple documents and activities side by side\n- **Extensions**: Customize with a growing ecosystem of extensions\n\n### JupyterLab vs Jupyter Notebook\n\n| Feature | JupyterLab | Classic Notebook |\n|---------|------------|------------------|\n| **Interface** | Multi-document, IDE-like | Single document |\n| **File Browser** | Built-in | Limited |\n| **Terminal** | Integrated | Separate |\n| **Text Editor** | Full-featured | Basic |\n| **Extensions** | Modern system | Legacy |\n| **Layout** | Flexible, draggable | Fixed |\n\nFranklin uses JupyterLab by default because it provides the most comprehensive environment for learning and research."
  },
  {
   "cell_type": "markdown",
   "id": "a0e86ab2-322e-4199-8786-2b0384528f39",
   "metadata": {},
   "source": "## Starting JupyterLab\n\nThere are several ways to start JupyterLab:"
  },
  {
   "cell_type": "markdown",
   "id": "3248b4da-1f4f-4207-b8d0-24312389c392",
   "metadata": {
    "jp-MarkdownHeadingCollapsed": true
   },
   "source": "### With Franklin (Recommended)\n\nThe easiest way for Franklin users:"
  },
  {
   "cell_type": "code",
   "id": "7v3sxcauct5",
   "source": "# Navigate to your exercise folder\ncd \"My Exercise\"\n\n# Start JupyterLab through Franklin\nfranklin jupyter",
   "metadata": {},
   "execution_count": null,
   "outputs": []
  },
  {
   "cell_type": "markdown",
   "id": "f048addc-e7e5-42d7-aa8e-a872a4a4212a",
   "metadata": {},
   "source": [
    "# Side panes"
   ]
  },
  {
   "attachments": {
    "114001ce-1f71-49de-972e-7128f491eee4.png": {
     "image/png": "[encoded data removed]"
    }
   },
   "cell_type": "markdown",
   "id": "ee2ca318-6497-41ef-87c5-9e306291bbb4",
   "metadata": {},
   "source": [
    "![Screenshot 2023-10-23 at 15.59.13.png](attachment:114001ce-1f71-49de-972e-7128f491eee4.png) - alks flaksjf laskjdf laskdfj \n",
    "\n",
    "asdflaksdfj "
   ]
  },
  {
   "cell_type": "markdown",
   "id": "d8a3be49",
   "metadata": {},
   "source": [
    "\n",
    "Jupyter Notebooks are an interactive computing environment that allow users to create and share documents containing live code, equations, visualizations, and narrative text. Originally developed as part of the IPython project, Jupyter (short for Julia, Python, R) now supports over 100 programming languages and has become a standard tool in data science, scientific computing, and education. \n",
    "\n",
    "At the core of a Jupyter Notebook is a web-based interface that organizes content into \"cells.\" These cells can contain code (typically in Python, but also in other languages via kernels), formatted text using Markdown, LaTeX for equations, and embedded multimedia elements. Users execute code in-place, and outputs such as plots or tables appear directly below the corresponding cells. This structure enables exploratory data analysis and facilitates reproducibility by interleaving code and its results with documentation.\n",
    "\n",
    "Notebooks are stored in .ipynb files (JSON format), which preserve the code, outputs, and formatting. They can be run locally using the Jupyter server or hosted in cloud environments such as Google Colab or Binder. For scientific workflows, notebooks can integrate with tools for version control, containerization, and workflow management, making them a flexible instrument for open and reproducible research.\n",
    "\n",
    "Despite their strengths, Jupyter Notebooks are not without limitations. Version control can be challenging due to the JSON-based format, and improper use (e.g., out-of-order execution) can compromise reproducibility. Nevertheless, their advantages in accessibility, interactivity, and communication have made them central to modern computational work.\n",
    "\n",
    "\n",
    "## Keyboard shortcuts\n",
    "\n",
    "### Command Mode in Jupyter Notebooks\n",
    "\n",
    "In Jupyter Notebooks, **Command Mode** is one of the two main interaction modes—the other being **Edit Mode**. Command Mode is active when the cell border is **blue**, indicating that keyboard commands will be interpreted as notebook-level operations rather than editing the cell's content.\n",
    "\n",
    "Command Mode allows users to manage cells and perform structural modifications without using the mouse. This enhances efficiency, especially when working with large notebooks. Pressing `Esc` while in a cell activates Command Mode.\n",
    "\n",
    "#### Common Keyboard Shortcuts in Command Mode\n",
    "\n",
    "\n",
    "| Shortcut                           | Description                                        |\n",
    "| ---------------------------------- | -------------------------------------------------- |\n",
    "| `Enter`                            | Switch to Edit Mode in the selected cell           |\n",
    "| `A`                                | Insert a new cell **above** the current cell       |\n",
    "| `B`                                | Insert a new cell **below** the current cell       |\n",
    "| `D, D`                             | Delete the selected cell (press `D` twice quickly) |\n",
    "| `Z`                                | Undo the last cell deletion                        |\n",
    "| `Y`                                | Change cell type to **code**                       |\n",
    "| `M`                                | Change cell type to **Markdown**                   |\n",
    "| `C`                                | Copy the selected cell                             |\n",
    "| `X`                                | Cut the selected cell                              |\n",
    "| `V`                                | Paste cell **below**                               |\n",
    "| `Shift + V`                        | Paste cell **above**                               |\n",
    "| `Shift + Up/Down`                  | Extend selection to multiple cells                 |\n",
    "| `Ctrl + S` (or `Cmd + S` on macOS) | Save the notebook                                  |\n",
    "| `H`                                | Show all keyboard shortcuts                        |\n",
    "| `0, 0`                             | Restart the kernel (press `0` twice quickly)       |\n",
    "| `Shift + M` (in Command Mode) | **Merge** selected cells                           |\n",
    "\n",
    "\n",
    "These shortcuts make navigation and cell management significantly faster, enabling an efficient coding and documentation workflow within Jupyter Notebooks.\n",
    "\n",
    "### Edit Mode in Jupyter Notebooks\n",
    "\n",
    "**Edit Mode** is activated when a cell's border turns **green**, allowing the user to directly modify the contents of the cell. You can enter Edit Mode by pressing `Enter` while a cell is selected in Command Mode. This mode is primarily used for writing and editing code or Markdown content within cells.\n",
    "\n",
    "#### Common Keyboard Shortcuts in Edit Mode\n",
    "\n",
    "| Shortcut                  | Description                                              |\n",
    "| ------------------------- | -------------------------------------------------------- |\n",
    "| `Ctrl + Enter`            | Run the current cell and remain in Edit Mode             |\n",
    "| `Shift + Enter`           | Run the current cell and move to the next cell           |\n",
    "| `Alt + Enter`             | Run the current cell and insert a new cell below         |\n",
    "| `Esc`                     | Switch to Command Mode                                   |\n",
    "| `Ctrl + /`                | Toggle comment on selected lines (code cells only)       |\n",
    "| `Tab`                     | Code completion or indent                                |\n",
    "| `Shift + Tab`             | Show tooltip/help for the object under cursor            |\n",
    "| `Ctrl + ]`                | Indent the current line or selection                     |\n",
    "| `Ctrl + [`                | Dedent the current line or selection                     |\n",
    "| `Ctrl + A`                | Select all content in the cell                           |\n",
    "| `Ctrl + Z`                | Undo the last change                                     |\n",
    "| `Ctrl + Y`                | Redo the last undone change                              |\n",
    "| `Ctrl + Shift + -`        | Split the current cell at cursor position into two cells |\n",
    "| `Ctrl + S` (or `Cmd + S`) | Save the notebook                                        |\n",
    "| `Ctrl + Shift + -`        | Split the cell at the current cursor position  |\n",
    "\n",
    "These shortcuts are optimized for efficient coding and content editing, significantly reducing reliance on the mouse and improving productivity within Jupyter Notebooks.\n"
   ]
  },
  {
   "cell_type": "markdown",
   "id": "cc113f08-5329-499a-9155-6b74f047bd48",
   "metadata": {},
   "source": [
    "# Lauching a new notebook or terminal"
   ]
  },
  {
   "cell_type": "markdown",
   "id": "e9a0fe68-6dfc-44a2-b5e7-99e7944b092f",
   "metadata": {},
   "source": [
    "Pick the folder icon in the side pane menu on the left, click the big blue button and launch a notebook"
   ]
  },
  {
   "cell_type": "markdown",
   "id": "d0b1d849-57aa-47c1-991f-da4640ddf950",
   "metadata": {},
   "source": [
    "# Multiple notebooks or terminal views"
   ]
  },
  {
   "cell_type": "markdown",
   "id": "15642ce2-9dd3-405b-93a3-19beef99c1f7",
   "metadata": {},
   "source": [
    "# Split windows"
   ]
  },
  {
   "cell_type": "markdown",
   "id": "1aa566db-9fbc-4fbb-a959-b328190ad2b0",
   "metadata": {},
   "source": [
    "# Controls"
   ]
  },
  {
   "cell_type": "markdown",
   "id": "7c0bf2cc-2853-41e4-b0bd-849888be2eb0",
   "metadata": {},
   "source": [
    "## Menu, Toolbar, Context menu\n",
    "\n",
    "## Command palette: `Command/Ctrl Shift C`\n",
    "\n",
    "## Keyboard short-cuts: `Command/Ctrl Shift H`"
   ]
  },
  {
   "cell_type": "markdown",
   "id": "3bfe972a-e80c-4288-aa67-d26471e589de",
   "metadata": {},
   "source": [
    "# Three kinds of cells"
   ]
  },
  {
   "cell_type": "code",
   "execution_count": 2,
   "id": "a5571281-a813-46bb-bd63-022503d99965",
   "metadata": {},
   "outputs": [
    {
     "name": "stdout",
     "output_type": "stream",
     "text": [
      "hello world\n"
     ]
    }
   ],
   "source": [
    "print('hello world')"
   ]
  },
  {
   "cell_type": "markdown",
   "id": "ca87c678-de16-44c9-bb62-be8db02d7e1d",
   "metadata": {},
   "source": [
    "This is *formatted* markdown"
   ]
  },
  {
   "cell_type": "raw",
   "id": "74534fa6-b5a9-4c77-878e-a73e15e75c53",
   "metadata": {},
   "source": [
    "This is raw text"
   ]
  },
  {
   "cell_type": "markdown",
   "id": "ba6b93bd-f84f-42b0-bd94-5e00e9d26020",
   "metadata": {},
   "source": [
    "# Running code in cells"
   ]
  },
  {
   "cell_type": "markdown",
   "id": "ae815dce-5286-43e6-8d88-bb3b96e91064",
   "metadata": {},
   "source": [
    "## Code blocks"
   ]
  },
  {
   "cell_type": "code",
   "execution_count": 3,
   "id": "be1824b7-da95-4cf4-a12f-348ae29bb183",
   "metadata": {},
   "outputs": [],
   "source": [
    "x = 0"
   ]
  },
  {
   "cell_type": "markdown",
   "id": "35d879ea-02c5-4449-af9a-ac6df416f88c",
   "metadata": {},
   "source": [
    "## Last value is displayed"
   ]
  },
  {
   "cell_type": "code",
   "execution_count": 4,
   "id": "0ee1c9c6-e3a5-49de-b400-35944262b98f",
   "metadata": {},
   "outputs": [
    {
     "data": {
      "text/plain": [
       "1"
      ]
     },
     "execution_count": 4,
     "metadata": {},
     "output_type": "execute_result"
    }
   ],
   "source": [
    "x = 1\n",
    "x"
   ]
  },
  {
   "cell_type": "markdown",
   "id": "62d5b264-5b10-45d8-ba1d-a65230646776",
   "metadata": {},
   "source": [
    "## Everything is one Python process"
   ]
  },
  {
   "cell_type": "code",
   "execution_count": 5,
   "id": "716916e5-32d3-4103-875d-fcfc5e165c2c",
   "metadata": {},
   "outputs": [
    {
     "data": {
      "text/plain": [
       "2"
      ]
     },
     "execution_count": 5,
     "metadata": {},
     "output_type": "execute_result"
    }
   ],
   "source": [
    "x += 1\n",
    "x"
   ]
  },
  {
   "cell_type": "markdown",
   "id": "6d405d30-c50f-45f0-9ee3-c245993cded4",
   "metadata": {},
   "source": [
    "## Restarting the kernel"
   ]
  },
  {
   "cell_type": "markdown",
   "id": "c2b9038e-b4ea-4264-88d0-cecca714a526",
   "metadata": {
    "jp-MarkdownHeadingCollapsed": true
   },
   "source": [
    "# Two kinds of \"Undo\"\n",
    "\n",
    "- `Edit/Undo` to undo stuff in the current cell\n",
    "- `Edit/Undo Cell Operation` to undo deleting, moving, merging cells"
   ]
  },
  {
   "cell_type": "markdown",
   "id": "e9bb0cf0-9e25-4e60-8614-ec679fb89528",
   "metadata": {},
   "source": [
    "# Moving and copy/paste cells"
   ]
  },
  {
   "cell_type": "code",
   "execution_count": 6,
   "id": "d15335e4-670b-48c2-ac3e-1eaea2451006",
   "metadata": {},
   "outputs": [
    {
     "name": "stdout",
     "output_type": "stream",
     "text": [
      "Move this cell somewhere\n"
     ]
    }
   ],
   "source": [
    "print(\"Move this cell somewhere\")"
   ]
  },
  {
   "cell_type": "markdown",
   "id": "cf80ecd6-b344-4468-8a98-5ff98ba500ad",
   "metadata": {},
   "source": [
    "Some other cell"
   ]
  },
  {
   "cell_type": "markdown",
   "id": "d547667a-3632-440a-ad66-cb3931a0b20f",
   "metadata": {},
   "source": [
    "# Split and merge cells"
   ]
  },
  {
   "cell_type": "markdown",
   "id": "347b2591-e012-4bee-9bdd-eaea4a756f5b",
   "metadata": {},
   "source": [
    "# Markdown text\n",
    "\n",
    "\n",
    "https://quarto.org/docs/authoring/markdown-basics.html"
   ]
  },
  {
   "cell_type": "markdown",
   "id": "8e0d7649-071f-46a2-ad9a-6517025504fe",
   "metadata": {},
   "source": [
    "This is some more markdown with **bold** text and *italics* and showing that somthing is a code, like `x = 2 + 2`.\n",
    "\n",
    "## Lists\n",
    "\n",
    "- foo\n",
    "- bar\n",
    "- baz\n",
    "\n",
    "## Numbered lists\n",
    "\n",
    "1. foo\n",
    "2. bar\n",
    "3. baz\n",
    "\n",
    "## Quotes\n",
    "\n",
    "> This is a quote\n",
    "\n",
    "## Formulas\n",
    "\n",
    "$\\sum_{i=0}^n i$\n",
    "\n",
    "<h3>HTML</h4>\n",
    "\n",
    "## Header 2\n",
    "\n",
    "### Header 3\n",
    "\n",
    "#### Header 4"
   ]
  },
  {
   "attachments": {},
   "cell_type": "markdown",
   "id": "65737a82-f5ea-44a5-8839-4a4a8a9a07b1",
   "metadata": {},
   "source": [
    "## Formulas\n",
    "\n",
    "$\\sum_{i=0}^n i$"
   ]
  },
  {
   "cell_type": "markdown",
   "id": "d0440449-b6db-4f39-974a-5fee4760d3e6",
   "metadata": {},
   "source": [
    "## Tables"
   ]
  },
  {
   "cell_type": "markdown",
   "id": "6ae9f293-c93c-448c-b6be-58c1f530e615",
   "metadata": {},
   "source": [
    "| Name      | Value |\n",
    "| :---------- | :---------- |\n",
    "| foo      | 2       |\n",
    "| bar   | 3        |"
   ]
  },
  {
   "cell_type": "markdown",
   "id": "467cf73a-0bfc-4f7c-bc16-9199d45cbba6",
   "metadata": {},
   "source": [
    "# HTML magic"
   ]
  },
  {
   "cell_type": "code",
   "execution_count": 7,
   "id": "0f681e60-08d0-49f8-bdf6-745ac309f850",
   "metadata": {},
   "outputs": [
    {
     "data": {
      "text/html": [
       "<style>\n",
       "table {float:left}\n",
       "</style>\n"
      ],
      "text/plain": [
       "<IPython.core.display.HTML object>"
      ]
     },
     "metadata": {},
     "output_type": "display_data"
    }
   ],
   "source": [
    "%%html\n",
    "<style>\n",
    "table {float:left}\n",
    "</style>"
   ]
  },
  {
   "cell_type": "markdown",
   "id": "99440ec4-72d8-4016-9715-cd579da4648d",
   "metadata": {},
   "source": [
    "# Images"
   ]
  },
  {
   "cell_type": "markdown",
   "id": "95f7df28-3da7-4150-9404-7f4e034962e2",
   "metadata": {},
   "source": [
    "Make markdown cell and then drag an image into it:"
   ]
  },
  {
   "cell_type": "markdown",
   "id": "73fa6316-a9d1-4273-8348-bc845f1c64a1",
   "metadata": {},
   "source": []
  },
  {
   "cell_type": "markdown",
   "id": "5093ba53-e7e7-48eb-bb0f-1f1fbe23ffa2",
   "metadata": {},
   "source": [
    "Some other cell"
   ]
  },
  {
   "cell_type": "markdown",
   "id": "844496f0-0b41-4950-b568-7a2c2df3d921",
   "metadata": {},
   "source": [
    "# Table of content and cell folding"
   ]
  },
  {
   "cell_type": "markdown",
   "id": "b3518591-7357-4a42-b37f-d220a7815fc4",
   "metadata": {},
   "source": [
    "# Shell commands"
   ]
  },
  {
   "cell_type": "code",
   "execution_count": null,
   "id": "969e9fca-1646-4d05-9b19-15d8a0382c71",
   "metadata": {},
   "outputs": [
    {
     "name": "stdout",
     "output_type": "stream",
     "text": [
      "BP TAs.md\n",
      "ERDA rollout 260923.pptx\n",
      "FemaleDEGall.pdf\n",
      "Harmonic mean.xlsx\n",
      "\u001b[34mMarias plots\u001b[m\u001b[m\n",
      "\u001b[34mMy Drive 08.10.50\u001b[m\u001b[m\n",
      "\u001b[34mPictures\u001b[m\u001b[m\n",
      "Screenshot 2023-09-28 at 14.03.06.png\n",
      "Screenshot 2023-10-23 at 15.59.13.png\n",
      "Training project.pdf\n",
      "Untitled.ipynb\n",
      "hc38_ECH_90%_regions.txt\n",
      "jupyter_walk_through.ipynb\n",
      "nb_20-updated_sweep_enrichments (3).html\n",
      "nn.png\n",
      "prob_of_nr_runs.ipynb\n",
      "\u001b[34mrejsUd\u001b[m\u001b[m\n",
      "runs_of_ones_paper.pdf\n",
      "timing_code.ipynb\n"
     ]
    }
   ],
   "source": [
    "! ls"
   ]
  },
  {
   "cell_type": "code",
   "execution_count": null,
   "id": "8ab7aca5",
   "metadata": {},
   "outputs": [],
   "source": []
  }
 ],
 "metadata": {
  "kernelspec": {
   "display_name": "Python 3 (ipykernel)",
   "language": "python",
   "name": "python3"
  },
  "language_info": {
   "codemirror_mode": {
    "name": "ipython",
    "version": 3
   },
   "file_extension": ".py",
   "mimetype": "text/x-python",
   "name": "python",
   "nbconvert_exporter": "python",
   "pygments_lexer": "ipython3",
   "version": "3.10.12"
  }
 },
 "nbformat": 4,
 "nbformat_minor": 5
}