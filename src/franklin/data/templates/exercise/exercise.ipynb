{
 "cells": [
  {
   "cell_type": "markdown",
   "id": "07e51a87-7d15-4af4-bab4-6dcce62f6b4c",
   "metadata": {},
   "source": [
    "# Title"
   ]
  },
  {
   "cell_type": "markdown",
   "id": "4e663497",
   "metadata": {},
   "source": [
    "## Markdown\n",
    "\n",
    "### Subheader\n",
    "\n",
    "Some normal text... and some `verbatim`, *italic*, and **bold**.\n",
    "\n",
    "An inline formula $x = \\log y^2$ and one displayed:\n",
    "\n",
    "$$y = \\sum_{i=0}^n x_i $$"
   ]
  },
  {
   "cell_type": "raw",
   "id": "e69e545f",
   "metadata": {
    "vscode": {
     "languageId": "raw"
    }
   },
   "source": [
    "Some raw text"
   ]
  },
  {
   "cell_type": "code",
   "execution_count": null,
   "id": "9335af7c-773a-44f1-87d7-ec7f82e929dd",
   "metadata": {},
   "outputs": [],
   "source": [
    "# say hi\n",
    "x = 'world'\n",
    "print(f'hello {x}')"
   ]
  }
 ],
 "metadata": {
  "kernelspec": {
   "display_name": "prod",
   "language": "python",
   "name": "python3"
  },
  "language_info": {
   "codemirror_mode": {
    "name": "ipython",
    "version": 3
   },
   "file_extension": ".py",
   "mimetype": "text/x-python",
   "name": "python",
   "nbconvert_exporter": "python",
   "pygments_lexer": "ipython3",
   "version": "3.12.10"
  }
 },
 "nbformat": 4,
 "nbformat_minor": 5
}
