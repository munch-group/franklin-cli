{
 "cells": [
  {
   "cell_type": "markdown",
   "id": "07e51a87-7d15-4af4-bab4-6dcce62f6b4c",
   "metadata": {},
   "source": [
    "# Title of your exercise"
   ]
  },
  {
   "cell_type": "markdown",
   "id": "9335af7c-773a-44f1-87d7-ec7f82e929dd",
   "metadata": {},
   "source": [
    "Some Markdown text in **bold** and *italics*. Inline `verbatimm` and verbatim block\n",
    "\n",
    "```\n",
    "A lot of verbatim text\n",
    "across several lines\n",
    "```\n",
    "\n",
    "Some marked up python code:\n",
    "\n",
    "```python\n",
    "# this is a comment\n",
    "print(\"Hello world\")\n",
    "```"
   ]
  },
  {
   "cell_type": "code",
   "execution_count": null,
   "id": "f18b7a1a",
   "metadata": {},
   "outputs": [],
   "source": [
    "# A code block\n",
    "print(\"Hello, World\")"
   ]
  },
  {
   "cell_type": "raw",
   "id": "7a7c3f80",
   "metadata": {
    "vscode": {
     "languageId": "raw"
    }
   },
   "source": [
    "Cell with raw unformatted text"
   ]
  }
 ],
 "metadata": {
  "kernelspec": {
   "display_name": "Python 3 (ipykernel)",
   "language": "python",
   "name": "python3"
  },
  "language_info": {
   "codemirror_mode": {
    "name": "ipython",
    "version": 3
   },
   "file_extension": ".py",
   "mimetype": "text/x-python",
   "name": "python",
   "nbconvert_exporter": "python",
   "pygments_lexer": "ipython3",
   "version": "3.12.2"
  }
 },
 "nbformat": 4,
 "nbformat_minor": 5
}
