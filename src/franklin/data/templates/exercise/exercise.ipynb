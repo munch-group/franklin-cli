{
 "cells": [
  {
   "cell_type": "markdown",
   "id": "07e51a87-7d15-4af4-bab4-6dcce62f6b4c",
   "metadata": {},
   "source": [
    "# Exercise title"
   ]
  },
  {
   "cell_type": "markdown",
   "id": "9335af7c-773a-44f1-87d7-ec7f82e929dd",
   "metadata": {},
   "source": [
    "This exercise ..."
   ]
  },
  {
   "cell_type": "code",
   "execution_count": null,
   "id": "223bc576-e7ff-4c27-bf6d-bc76e76c655d",
   "metadata": {},
   "outputs": [],
   "source": [
    "print(\"Hello, World!\")"
   ]
  }
 ],
 "metadata": {
  "kernelspec": {
   "display_name": "Python 3 (ipykernel)",
   "language": "python",
   "name": "python3"
  },
  "language_info": {
   "codemirror_mode": {
    "name": "ipython",
    "version": 3
   },
   "file_extension": ".py",
   "mimetype": "text/x-python",
   "name": "python",
   "nbconvert_exporter": "python",
   "pygments_lexer": "ipython3",
   "version": "3.12.10"
  }
 },
 "nbformat": 4,
 "nbformat_minor": 5
}
