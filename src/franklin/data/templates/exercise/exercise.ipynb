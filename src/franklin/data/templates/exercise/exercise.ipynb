{
 "cells": [
  {
   "cell_type": "markdown",
   "id": "07e51a87-7d15-4af4-bab4-6dcce62f6b4c",
   "metadata": {},
   "source": [
    "# The ancestral recombination graph (ARG)"
   ]
  },
  {
   "cell_type": "markdown",
   "id": "9335af7c-773a-44f1-87d7-ec7f82e929dd",
   "metadata": {},
   "source": [
    "The exercises in this notebook is intended to build an intuition about the properties of the ancestral recombination graph (ARG) and its two Markov approximations, the serial Markov coalescents (SMC and SMC'). The top part of this notebook runs an interactive dashboard that simulates ARGs. The bottom part has exercises to complete using the dashboard. You start the dashboard it by executing the cell below and click the link that appears. This opens the dashboard in another tab in your browser."
   ]
  },
  {
   "cell_type": "markdown",
   "id": "4012765f-e544-404c-a48a-bf8a04c53161",
   "metadata": {},
   "source": [
    "Run the cell below to start the dashboard:"
   ]
  },
  {
   "cell_type": "code",
   "execution_count": 1,
   "id": "9dd818e2-a5df-4c23-bb2d-4c3fed0101bd",
   "metadata": {},
   "outputs": [
    {
     "data": {
      "text/html": [
       "\n",
       "        <iframe\n",
       "            width=\"100%\"\n",
       "            height=\"900\"\n",
       "            src=\"http://0.0.0.0:8050/\"\n",
       "            frameborder=\"0\"\n",
       "            allowfullscreen\n",
       "            \n",
       "        ></iframe>\n",
       "        "
      ],
      "text/plain": [
       "<IPython.lib.display.IFrame at 0x7fffe2887fb0>"
      ]
     },
     "metadata": {},
     "output_type": "display_data"
    }
   ],
   "source": [
    "from argdash import arg_dashboard\n",
    "arg_dashboard.app.run(mode='inline', host=\"0.0.0.0\", port=8050, dev_tools_ui=True, jupyter_height=900, jupyter_width=\"100%\")  "
   ]
  },
  {
   "cell_type": "markdown",
   "id": "2eef4d51-ede0-4c3a-be0a-ec63b2ac1733",
   "metadata": {},
   "source": [
    "## Exercise 1 Simulate some ARGs\n",
    "\n",
    "1. The *Main* panel shows a simulated graph. Click `New` to generate a new graph. Dropdown menus control the type of graph, the number of samples and the sequence length. Choose \"ARG\" for the simulation, a sample size of \"5\" and a sequence length of \"2kb\". \n",
    "2. Simulate a lot of ARGS. Just keep clicking `New` to see the variation of ARGS.\n",
    "3. Pick and ARG with 2-3 recombincombination events.\n",
    "4. The *Coalesce and recombination events* panel controls the number of events shown in the graph. The *Recombination points* panel shows the points of recombination in the sequence. Use the *Coalesce and recombination events* panel to reconstruct the graph step by step by moving the slider from left to right. Make sure you understand what happens at each coalescence and recombination event.\n",
    "5. Use the two sliders in the *Recombination points* to retrict the view to a smaller part of the sequence. Watch what happens to the arg as you include more or fewer recombination points on the sequence.\n",
    "\n",
    "## Exercise 2 Ancestral sequences and marginal trees\n",
    "\n",
    "1. Click `New` to find an ARG with 2-3 recombincombination events where some of the nodes are not red. Ancestral node colors reflect the proportion of the sequence that is represented in the ancestor. Ancestral material is the part of the sequence that has a descendants among the sampled sequences. Mouse-over a node to see the type of event and the proportion of ancestal proportion sequence at each node. \n",
    "2. Notice how mouse-over also activates the *Ancestral sequences* and *Marginal trees* panels. The *Ancestral sequences* panel shows how ancestral material is merged at coalescence events and divided at recombination events. Sequence segments separated by recombination events are shown with separate colors. The genalogy for each segment is shown in the *Marginal tree* panel with a color matching the segment. Non-ancestral segments are shown in white. Mouse-over the root node of the ARG to see all marginal trees (genealogies) for the ARG. Mouse-over other nodes to see the marginal trees below that node.\n",
    "3. Use the slider in the  *Recombination points* panel to show the graph for only a subset of the sequence. Notice how this affects the shown ARG and the marginal trees when you mouse-over a node. Sequence outside the range specified in the *Recombination points* panel is shown as gray in the *Ancestral sequences* panel.\n",
    "4. The marginal trees look a lot like each other. Try to understand how each one if different from its neighbor. You can make the range in the *Recombination points* slider really small so it shows only one marginal tree at a time. Now move it along the sequence to see how the ARG changes. Can you see that only one branch detaches and is moved somewhere else?\n",
    "\n",
    "## Exercise 3 \"Captured\" non-ancestral sequence\n",
    "\n",
    "1. See if you can find any nodes where non-ancestral sequence is \"captured\" between two ancestral (colored) segments. Figure out how the segment you found got trapped between two ancestral sequence segments.\n",
    "2. See if you can find it i the SMC. If you cannot, why do you think that is?\n",
    "\n",
    "## Exercise 4 \"Diamond\" recombinations\n",
    "\n",
    "1. Simulating from the ARG, you may have noticed that some recombinations events produce two lineages that coalesce with each other rather than with other lineages. The following coalescence nullifies the preceeding recombination event. This produces producing an \"eye\" or \"diamond\" in the graph. Such recombination events cannot be inferred from data (if you mouse over the nodes you can see why), but they are part of the evolutionary history of a sample none the less.\n",
    "2. Try the SMC. Do you find any \"diamonds\"?. Why?\n",
    "3. Now try the SMC'. Do you find any \"diamonds\"?. Why?\n",
    "4. What do you think assuming diamonds do not exist does to the estimation of the graph?\n",
    "\n",
    "## Exercise 5\n",
    "\n",
    "1. Imagine and ARG for a human chromosome - 100,000 times larger than the 2kb we are considering here.\n"
   ]
  },
  {
   "cell_type": "code",
   "execution_count": null,
   "id": "6e5a7159-7b44-4f96-97ff-c57b0228c46d",
   "metadata": {},
   "outputs": [],
   "source": []
  },
  {
   "cell_type": "code",
   "execution_count": null,
   "id": "63cdee6b-c50f-491d-8c3f-eef367dff6e2",
   "metadata": {},
   "outputs": [],
   "source": []
  },
  {
   "cell_type": "code",
   "execution_count": null,
   "id": "223bc576-e7ff-4c27-bf6d-bc76e76c655d",
   "metadata": {},
   "outputs": [],
   "source": []
  }
 ],
 "metadata": {
  "kernelspec": {
   "display_name": "Python 3 (ipykernel)",
   "language": "python",
   "name": "python3"
  },
  "language_info": {
   "codemirror_mode": {
    "name": "ipython",
    "version": 3
   },
   "file_extension": ".py",
   "mimetype": "text/x-python",
   "name": "python",
   "nbconvert_exporter": "python",
   "pygments_lexer": "ipython3",
   "version": "3.12.10"
  }
 },
 "nbformat": 4,
 "nbformat_minor": 5
}
