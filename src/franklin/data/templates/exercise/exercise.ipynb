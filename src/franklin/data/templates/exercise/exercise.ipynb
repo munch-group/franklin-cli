{
 "cells": [
  {
   "cell_type": "markdown",
   "id": "07e51a87-7d15-4af4-bab4-6dcce62f6b4c",
   "metadata": {},
   "source": [
    "# Exercise title"
   ]
  },
  {
   "cell_type": "markdown",
   "id": "9335af7c-773a-44f1-87d7-ec7f82e929dd",
   "metadata": {},
   "source": [
    "Text"
   ]
  },
  {
   "cell_type": "code",
   "execution_count": null,
   "id": "3bd60abc",
   "metadata": {
    "execution": {
     "iopub.execute_input": "2025-05-24T21:03:44.029699Z",
     "iopub.status.busy": "2025-05-24T21:03:44.029536Z",
     "iopub.status.idle": "2025-05-24T21:03:45.582663Z",
     "shell.execute_reply": "2025-05-24T21:03:45.582389Z"
    }
   },
   "outputs": [],
   "source": [
    "import pandas as pd\n",
    "from pathlib import Path\n",
    "import matplotlib.pyplot as plt\n",
    "from scipy.stats import norm\n",
    "from sklearn.ensemble import RandomForestClassifier\n",
    "from Bio import SeqIO\n"
   ]
  },
  {
   "cell_type": "code",
   "execution_count": null,
   "id": "9dd818e2-a5df-4c23-bb2d-4c3fed0101bd",
   "metadata": {
    "execution": {
     "iopub.execute_input": "2025-05-24T21:03:45.584322Z",
     "iopub.status.busy": "2025-05-24T21:03:45.584153Z",
     "iopub.status.idle": "2025-05-24T21:03:45.586191Z",
     "shell.execute_reply": "2025-05-24T21:03:45.585945Z"
    }
   },
   "outputs": [],
   "source": [
    "print('hello world')"
   ]
  }
 ],
 "metadata": {
  "kernelspec": {
   "display_name": "Python 3 (ipykernel)",
   "language": "python",
   "name": "python3"
  },
  "language_info": {
   "codemirror_mode": {
    "name": "ipython",
    "version": 3
   },
   "file_extension": ".py",
   "mimetype": "text/x-python",
   "name": "python",
   "nbconvert_exporter": "python",
   "pygments_lexer": "ipython3",
   "version": "3.13.3"
  }
 },
 "nbformat": 4,
 "nbformat_minor": 5
}
