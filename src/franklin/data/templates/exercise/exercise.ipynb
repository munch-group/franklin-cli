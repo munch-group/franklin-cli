{
 "cells": [
  {
   "cell_type": "markdown",
   "id": "07e51a87-7d15-4af4-bab4-6dcce62f6b4c",
   "metadata": {},
   "source": [
    "# Exercise Title"
   ]
  },
  {
   "cell_type": "code",
   "execution_count": null,
   "id": "c354767f",
   "metadata": {},
   "outputs": [],
   "source": [
    "# do not delete this cell\n",
    "%load_ext franklin_container.magic"
   ]
  },
  {
   "cell_type": "code",
   "execution_count": null,
   "id": "dbe44973",
   "metadata": {},
   "outputs": [],
   "source": [
    "\n",
    "#%franklin pandas"
   ]
  },
  {
   "cell_type": "markdown",
   "id": "4e663497",
   "metadata": {},
   "source": [
    "## Markdown\n",
    "\n",
    "### Subheader\n",
    "\n",
    "Some normal text... and some `verbatim`, *italic*, and **bold**.\n",
    "\n",
    "An inline formula $x = \\log y^2$ and one displayed:\n",
    "\n",
    "$$y = \\sum_{i=0}^n x_i $$"
   ]
  },
  {
   "cell_type": "raw",
   "id": "e69e545f",
   "metadata": {
    "vscode": {
     "languageId": "raw"
    }
   },
   "source": [
    "Some raw text"
   ]
  },
  {
   "cell_type": "markdown",
   "id": "967c92c6",
   "metadata": {},
   "source": [
    "## Python"
   ]
  },
  {
   "cell_type": "code",
   "execution_count": null,
   "id": "9335af7c-773a-44f1-87d7-ec7f82e929dd",
   "metadata": {},
   "outputs": [],
   "source": [
    "# say hi\n",
    "x = 'world'\n",
    "print(f'hello {x}')"
   ]
  },
  {
   "cell_type": "markdown",
   "id": "2ad4e006",
   "metadata": {},
   "source": [
    "## Pandas"
   ]
  },
  {
   "cell_type": "code",
   "execution_count": null,
   "id": "704b8d2f",
   "metadata": {},
   "outputs": [],
   "source": [
    "#%franklin pandas"
   ]
  },
  {
   "cell_type": "code",
   "execution_count": null,
   "id": "b2723dc9",
   "metadata": {},
   "outputs": [],
   "source": [
    "\n"
   ]
  },
  {
   "cell_type": "markdown",
   "id": "e4eef856",
   "metadata": {},
   "source": [
    "## Plotting"
   ]
  },
  {
   "cell_type": "code",
   "execution_count": null,
   "id": "1cb44d25",
   "metadata": {},
   "outputs": [],
   "source": [
    "#%franklin seaborn"
   ]
  },
  {
   "cell_type": "markdown",
   "id": "cced6e63",
   "metadata": {},
   "source": [
    "## Widgets"
   ]
  },
  {
   "cell_type": "code",
   "execution_count": null,
   "id": "7a1eb8d1",
   "metadata": {},
   "outputs": [],
   "source": [
    "#%franklin ipywidgets"
   ]
  },
  {
   "cell_type": "code",
   "execution_count": null,
   "id": "239e7530",
   "metadata": {},
   "outputs": [],
   "source": []
  },
  {
   "cell_type": "code",
   "execution_count": null,
   "id": "235ed9d4",
   "metadata": {},
   "outputs": [],
   "source": []
  }
 ],
 "metadata": {
  "kernelspec": {
   "display_name": "prod",
   "language": "python",
   "name": "python3"
  },
  "language_info": {
   "codemirror_mode": {
    "name": "ipython",
    "version": 3
   },
   "file_extension": ".py",
   "mimetype": "text/x-python",
   "name": "python",
   "nbconvert_exporter": "python",
   "pygments_lexer": "ipython3",
   "version": "3.12.10"
  }
 },
 "nbformat": 4,
 "nbformat_minor": 5
}
