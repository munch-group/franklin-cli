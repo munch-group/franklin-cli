{
 "cells": [
  {
   "cell_type": "markdown",
   "id": "07e51a87-7d15-4af4-bab4-6dcce62f6b4c",
   "metadata": {},
   "source": [
    "---\n",
    "title: Exercise Title\n",
    "---"
   ]
  },
  {
   "cell_type": "code",
   "execution_count": null,
   "id": "c354767f",
   "metadata": {},
   "outputs": [],
   "source": [
    "# do not delete this cell\n",
    "%load_ext franklin_container.magic"
   ]
  },
  {
   "cell_type": "markdown",
   "id": "13aeccff",
   "metadata": {},
   "source": [
    "::: {.callout-note}\n",
    "## Educator HOWTO\n",
    "\n",
    "How to modify this template\n",
    "\n",
    "How to use the %franklin magic\n",
    "\n",
    ":::\n"
   ]
  },
  {
   "cell_type": "markdown",
   "id": "4e663497",
   "metadata": {},
   "source": [
    "## Some level two header\n",
    "\n",
    "### Some level three header\n",
    "\n",
    "Some normal text describing something with some `verbatim`, *italic*, and **bold** words as well as an inline formula $x = \\log y^2$ and a displayed one:\n",
    "\n",
    "$$y = \\sum_{i=0}^n x_i $$\n",
    "\n",
    "Listing some Python code with markup for students to read and add to cell below:\n",
    "\n",
    "```python\n",
    "# this \n",
    "print('Hellow world')\n",
    "```\n",
    "\n"
   ]
  },
  {
   "cell_type": "code",
   "execution_count": null,
   "id": "b6474aab",
   "metadata": {},
   "outputs": [],
   "source": [
    "print('Hello world')"
   ]
  },
  {
   "cell_type": "markdown",
   "id": "bfde101f",
   "metadata": {},
   "source": [
    "::: {.callout-note}\n",
    "## Educator: collapsible code explanations\n",
    "\n",
    "Blah blah ...\n",
    "\n",
    "\n",
    "```html\n",
    "<details>\n",
    "<summary><small>Click have the code explained</small></summary>\n",
    "\n",
    "The print function prints the string \"Hello world\" to the cell output.\n",
    "\n",
    "</details>\n",
    "\n",
    "\n",
    "Renders as the cell below.\n",
    "\n",
    "```\n",
    "\n",
    ":::"
   ]
  },
  {
   "cell_type": "markdown",
   "id": "71bcb338",
   "metadata": {},
   "source": [
    "<details>\n",
    "<summary><small>Click have the code explained</small></summary>\n",
    "\n",
    "The print function prints the string \"Hello world\" to the cell output.\n",
    "\n",
    "</details>"
   ]
  },
  {
   "cell_type": "markdown",
   "id": "2ad4e006",
   "metadata": {},
   "source": [
    "::: {.callout-note}\n",
    "## Educator: include pandas\n",
    "\n",
    "Blah blah ...\n",
    "\n",
    "Create a cell with just this content. \n",
    "\n",
    "```txt\n",
    "%franklin pandas\n",
    "```\n",
    "\n",
    "Execute it to add panndas to franklin. Then delete it again, since it should not be part of the notebook once the students get it.\n",
    "\n",
    "\n",
    ":::"
   ]
  },
  {
   "cell_type": "code",
   "execution_count": null,
   "id": "704b8d2f",
   "metadata": {},
   "outputs": [],
   "source": [
    "#%franklin pandas"
   ]
  },
  {
   "cell_type": "code",
   "execution_count": null,
   "id": "b2723dc9",
   "metadata": {},
   "outputs": [],
   "source": [
    "\n"
   ]
  },
  {
   "cell_type": "markdown",
   "id": "e4eef856",
   "metadata": {},
   "source": [
    "## Plotting"
   ]
  },
  {
   "cell_type": "code",
   "execution_count": null,
   "id": "1cb44d25",
   "metadata": {},
   "outputs": [],
   "source": [
    "#%franklin seaborn"
   ]
  },
  {
   "cell_type": "markdown",
   "id": "cced6e63",
   "metadata": {},
   "source": [
    "## Widgets"
   ]
  },
  {
   "cell_type": "code",
   "execution_count": null,
   "id": "7a1eb8d1",
   "metadata": {},
   "outputs": [],
   "source": [
    "#%franklin ipywidgets"
   ]
  },
  {
   "cell_type": "code",
   "execution_count": null,
   "id": "239e7530",
   "metadata": {},
   "outputs": [],
   "source": []
  },
  {
   "cell_type": "code",
   "execution_count": null,
   "id": "235ed9d4",
   "metadata": {},
   "outputs": [],
   "source": []
  }
 ],
 "metadata": {
  "kernelspec": {
   "display_name": "prod",
   "language": "python",
   "name": "python3"
  },
  "language_info": {
   "codemirror_mode": {
    "name": "ipython",
    "version": 3
   },
   "file_extension": ".py",
   "mimetype": "text/x-python",
   "name": "python",
   "nbconvert_exporter": "python",
   "pygments_lexer": "ipython3",
   "version": "3.12.10"
  }
 },
 "nbformat": 4,
 "nbformat_minor": 5
}
